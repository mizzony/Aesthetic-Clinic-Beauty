{
    "cells": [
        {
            "cell_type": "code",
            "execution_count": 1,
            "metadata": {},
            "outputs": [
                {
                    "name": "stdout",
                    "output_type": "stream",
                    "text": "Solving environment: done\n\n## Package Plan ##\n\n  environment location: /opt/conda/envs/Python36\n\n  added / updated specs: \n    - pandas\n\n\nThe following packages will be downloaded:\n\n    package                    |            build\n    ---------------------------|-----------------\n    openssl-1.1.1g             |       h516909a_0         2.1 MB  conda-forge\n    certifi-2020.4.5.1         |   py36h9f0ad1d_0         151 KB  conda-forge\n    ca-certificates-2020.4.5.1 |       hecc5488_0         146 KB  conda-forge\n    python_abi-3.6             |          1_cp36m           4 KB  conda-forge\n    pandas-1.0.3               |   py36h830a2c2_1        11.1 MB  conda-forge\n    ------------------------------------------------------------\n                                           Total:        13.5 MB\n\nThe following NEW packages will be INSTALLED:\n\n    python_abi:      3.6-1_cp36m           conda-forge\n\nThe following packages will be UPDATED:\n\n    ca-certificates: 2020.1.1-0                        --> 2020.4.5.1-hecc5488_0     conda-forge\n    certifi:         2020.4.5.1-py36_0                 --> 2020.4.5.1-py36h9f0ad1d_0 conda-forge\n    openssl:         1.1.1g-h7b6447c_0                 --> 1.1.1g-h516909a_0         conda-forge\n    pandas:          0.24.1-py36he6710b0_0             --> 1.0.3-py36h830a2c2_1      conda-forge\n\n\nDownloading and Extracting Packages\nopenssl-1.1.1g       | 2.1 MB    | ##################################### | 100% \ncertifi-2020.4.5.1   | 151 KB    | ##################################### | 100% \nca-certificates-2020 | 146 KB    | ##################################### | 100% \npython_abi-3.6       | 4 KB      | ##################################### | 100% \npandas-1.0.3         | 11.1 MB   | ##################################### | 100% \nPreparing transaction: done\nVerifying transaction: done\nExecuting transaction: done\n"
                }
            ],
            "source": "!conda install -c conda-forge pandas --yes \n!pip install -q PyMySQL"
        },
        {
            "cell_type": "code",
            "execution_count": 2,
            "metadata": {},
            "outputs": [],
            "source": "import pandas as pd # library for data analsysis\nimport numpy as np # library to handle data in a vectorized manner\nimport pymysql.cursors"
        },
        {
            "cell_type": "code",
            "execution_count": 3,
            "metadata": {},
            "outputs": [],
            "source": "dsn_database = \"Sutinan\" # for example  \"BLUDB\"\ndsn_hostname = \"harrots.c2bjsodypjua.ap-southeast-1.rds.amazonaws.com\" # for example  \"mydbinstance.cz6pjylrdjko.us-east-1.rds.amazonaws.com\"\ndsn_port = 3306        # for example  3306 without quotation marks\ndsn_uid = \"harrots_admin\"      # for example  \"user1\"\ndsn_pwd = \"Hello1234\"      # for example  \"7dBZ3jWt9xN6$o0JiX!m\"\n\nconn = pymysql.connect(host=dsn_hostname, port=dsn_port, user=dsn_uid, passwd=dsn_pwd, db=dsn_database, charset=\"utf8mb4\", autocommit=True)"
        },
        {
            "cell_type": "code",
            "execution_count": 4,
            "metadata": {},
            "outputs": [
                {
                    "data": {
                        "text/html": "<div>\n<style scoped>\n    .dataframe tbody tr th:only-of-type {\n        vertical-align: middle;\n    }\n\n    .dataframe tbody tr th {\n        vertical-align: top;\n    }\n\n    .dataframe thead th {\n        text-align: right;\n    }\n</style>\n<table border=\"1\" class=\"dataframe\">\n  <thead>\n    <tr style=\"text-align: right;\">\n      <th></th>\n      <th>id</th>\n      <th>sale_id</th>\n      <th>sale_name</th>\n      <th>customer_name</th>\n      <th>doc_date</th>\n      <th>doc_no</th>\n      <th>discount</th>\n      <th>product_code</th>\n      <th>product_name</th>\n      <th>unit</th>\n      <th>amount</th>\n      <th>total</th>\n      <th>warehouse</th>\n    </tr>\n  </thead>\n  <tbody>\n    <tr>\n      <th>0</th>\n      <td>1</td>\n      <td>1</td>\n      <td>EN Beauty</td>\n      <td>\u0e28\u0e34\u0e23\u0e31\u0e2a</td>\n      <td>2562-05-01</td>\n      <td>B16205-0003</td>\n      <td>0</td>\n      <td>FLR-0039</td>\n      <td>DermalaxBlue</td>\n      <td>box</td>\n      <td>5</td>\n      <td>5000</td>\n      <td>bkk</td>\n    </tr>\n    <tr>\n      <th>1</th>\n      <td>2</td>\n      <td>2</td>\n      <td>EN Beauty</td>\n      <td>\u0e28\u0e34\u0e23\u0e31\u0e2a</td>\n      <td>2562-05-01</td>\n      <td>B16205-0003</td>\n      <td>0</td>\n      <td>BOT-0009</td>\n      <td>Botulax200uTFDA</td>\n      <td>bt</td>\n      <td>5</td>\n      <td>12500</td>\n      <td>bkk</td>\n    </tr>\n    <tr>\n      <th>2</th>\n      <td>3</td>\n      <td>8</td>\n      <td>Beauty Expo</td>\n      <td>\u0e1e\u0e35\u0e48\u0e40\u0e08\u0e47\u0e17</td>\n      <td>2562-05-02</td>\n      <td>B16205-0012</td>\n      <td>0</td>\n      <td>MES-0034</td>\n      <td>HyaronPrefilled</td>\n      <td>box</td>\n      <td>2</td>\n      <td>5200</td>\n      <td>bkk</td>\n    </tr>\n    <tr>\n      <th>3</th>\n      <td>4</td>\n      <td>9</td>\n      <td>Beauty Expo</td>\n      <td>\u0e1e\u0e35\u0e48\u0e40\u0e08\u0e47\u0e17</td>\n      <td>2562-05-02</td>\n      <td>B16205-0012</td>\n      <td>0</td>\n      <td>FLR-0042</td>\n      <td>JuvedermUltra4</td>\n      <td>box</td>\n      <td>1</td>\n      <td>6800</td>\n      <td>bkk</td>\n    </tr>\n    <tr>\n      <th>4</th>\n      <td>5</td>\n      <td>1</td>\n      <td>EN Beauty</td>\n      <td>\u0e04\u0e34\u0e21</td>\n      <td>2562-05-02</td>\n      <td>B16205-0011</td>\n      <td>0</td>\n      <td>BOT-0004</td>\n      <td>Nabota100u</td>\n      <td>bt</td>\n      <td>10</td>\n      <td>15000</td>\n      <td>bkk</td>\n    </tr>\n    <tr>\n      <th>5</th>\n      <td>6</td>\n      <td>1</td>\n      <td>EN Beauty</td>\n      <td>\u0e14\u0e31\u0e1a\u0e40\u0e1a\u0e34\u0e49\u0e25\u0e22\u0e39\u0e1a\u0e34\u0e27\u0e15\u0e35\u0e49</td>\n      <td>2562-05-02</td>\n      <td>B16205-0010</td>\n      <td>0</td>\n      <td>ZZZ-0007</td>\n      <td>\u0e04\u0e48\u0e32\u0e02\u0e19\u0e2a\u0e48\u0e07</td>\n      <td>\u0e1a\u0e32\u0e17</td>\n      <td>1</td>\n      <td>150</td>\n      <td>bkk</td>\n    </tr>\n    <tr>\n      <th>6</th>\n      <td>7</td>\n      <td>1</td>\n      <td>EN Beauty</td>\n      <td>\u0e14\u0e31\u0e1a\u0e40\u0e1a\u0e34\u0e49\u0e25\u0e22\u0e39\u0e1a\u0e34\u0e27\u0e15\u0e35\u0e49</td>\n      <td>2562-05-02</td>\n      <td>B16205-0010</td>\n      <td>0</td>\n      <td>ANE-0007</td>\n      <td>AnestheticsYellowPink</td>\n      <td>ea</td>\n      <td>1</td>\n      <td>1100</td>\n      <td>bkk</td>\n    </tr>\n    <tr>\n      <th>7</th>\n      <td>8</td>\n      <td>1</td>\n      <td>EN Beauty</td>\n      <td>\u0e2d\u0e31\u0e0d\u0e0d\u0e23\u0e31\u0e0a\u0e15\u0e4c /\u0e0a\u0e21\u0e1e\u0e39\u0e48</td>\n      <td>2562-05-02</td>\n      <td>B16205-0009</td>\n      <td>0</td>\n      <td>GLT-0002</td>\n      <td>LumigenGlutathione</td>\n      <td>box</td>\n      <td>20</td>\n      <td>30000</td>\n      <td>bkk</td>\n    </tr>\n    <tr>\n      <th>8</th>\n      <td>9</td>\n      <td>1</td>\n      <td>EN Beauty</td>\n      <td>\u0e2d\u0e31\u0e0d\u0e0d\u0e23\u0e31\u0e0a\u0e15\u0e4c /\u0e0a\u0e21\u0e1e\u0e39\u0e48</td>\n      <td>2562-05-02</td>\n      <td>B16205-0009</td>\n      <td>0</td>\n      <td>FLR-0016</td>\n      <td>RestylaneSKinBoosterVital</td>\n      <td>box</td>\n      <td>3</td>\n      <td>8100</td>\n      <td>bkk</td>\n    </tr>\n    <tr>\n      <th>9</th>\n      <td>10</td>\n      <td>1</td>\n      <td>EN Beauty</td>\n      <td>\u0e2d\u0e31\u0e0d\u0e0d\u0e23\u0e31\u0e0a\u0e15\u0e4c /\u0e0a\u0e21\u0e1e\u0e39\u0e48</td>\n      <td>2562-05-02</td>\n      <td>B16205-0009</td>\n      <td>0</td>\n      <td>EXX-0008</td>\n      <td>Lumigen vitamin c</td>\n      <td>BOX</td>\n      <td>20</td>\n      <td>0</td>\n      <td>bkk</td>\n    </tr>\n  </tbody>\n</table>\n</div>",
                        "text/plain": "   id  sale_id    sale_name     customer_name    doc_date       doc_no  \\\n0   1        1    EN Beauty             \u0e28\u0e34\u0e23\u0e31\u0e2a  2562-05-01  B16205-0003   \n1   2        2    EN Beauty             \u0e28\u0e34\u0e23\u0e31\u0e2a  2562-05-01  B16205-0003   \n2   3        8  Beauty Expo           \u0e1e\u0e35\u0e48\u0e40\u0e08\u0e47\u0e17  2562-05-02  B16205-0012   \n3   4        9  Beauty Expo           \u0e1e\u0e35\u0e48\u0e40\u0e08\u0e47\u0e17  2562-05-02  B16205-0012   \n4   5        1    EN Beauty               \u0e04\u0e34\u0e21  2562-05-02  B16205-0011   \n5   6        1    EN Beauty  \u0e14\u0e31\u0e1a\u0e40\u0e1a\u0e34\u0e49\u0e25\u0e22\u0e39\u0e1a\u0e34\u0e27\u0e15\u0e35\u0e49  2562-05-02  B16205-0010   \n6   7        1    EN Beauty  \u0e14\u0e31\u0e1a\u0e40\u0e1a\u0e34\u0e49\u0e25\u0e22\u0e39\u0e1a\u0e34\u0e27\u0e15\u0e35\u0e49  2562-05-02  B16205-0010   \n7   8        1    EN Beauty  \u0e2d\u0e31\u0e0d\u0e0d\u0e23\u0e31\u0e0a\u0e15\u0e4c /\u0e0a\u0e21\u0e1e\u0e39\u0e48  2562-05-02  B16205-0009   \n8   9        1    EN Beauty  \u0e2d\u0e31\u0e0d\u0e0d\u0e23\u0e31\u0e0a\u0e15\u0e4c /\u0e0a\u0e21\u0e1e\u0e39\u0e48  2562-05-02  B16205-0009   \n9  10        1    EN Beauty  \u0e2d\u0e31\u0e0d\u0e0d\u0e23\u0e31\u0e0a\u0e15\u0e4c /\u0e0a\u0e21\u0e1e\u0e39\u0e48  2562-05-02  B16205-0009   \n\n   discount product_code               product_name unit  amount  total  \\\n0         0     FLR-0039               DermalaxBlue  box       5   5000   \n1         0     BOT-0009            Botulax200uTFDA   bt       5  12500   \n2         0     MES-0034            HyaronPrefilled  box       2   5200   \n3         0     FLR-0042             JuvedermUltra4  box       1   6800   \n4         0     BOT-0004                 Nabota100u   bt      10  15000   \n5         0     ZZZ-0007                   \u0e04\u0e48\u0e32\u0e02\u0e19\u0e2a\u0e48\u0e07  \u0e1a\u0e32\u0e17       1    150   \n6         0     ANE-0007      AnestheticsYellowPink   ea       1   1100   \n7         0     GLT-0002         LumigenGlutathione  box      20  30000   \n8         0     FLR-0016  RestylaneSKinBoosterVital  box       3   8100   \n9         0     EXX-0008          Lumigen vitamin c  BOX      20      0   \n\n  warehouse  \n0       bkk  \n1       bkk  \n2       bkk  \n3       bkk  \n4       bkk  \n5       bkk  \n6       bkk  \n7       bkk  \n8       bkk  \n9       bkk  "
                    },
                    "execution_count": 4,
                    "metadata": {},
                    "output_type": "execute_result"
                }
            ],
            "source": "sale01_Q3 = pd.read_sql(\"select * from sale052019_012020 limit 10\", conn)\nsale01_Q3"
        },
        {
            "cell_type": "code",
            "execution_count": null,
            "metadata": {},
            "outputs": [],
            "source": ""
        }
    ],
    "metadata": {
        "kernelspec": {
            "display_name": "Python 3.6",
            "language": "python",
            "name": "python3"
        },
        "language_info": {
            "codemirror_mode": {
                "name": "ipython",
                "version": 3
            },
            "file_extension": ".py",
            "mimetype": "text/x-python",
            "name": "python",
            "nbconvert_exporter": "python",
            "pygments_lexer": "ipython3",
            "version": "3.6.9"
        }
    },
    "nbformat": 4,
    "nbformat_minor": 1
}
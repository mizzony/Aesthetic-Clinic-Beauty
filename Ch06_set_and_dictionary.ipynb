{
  "cells": [
    {
      "cell_type": "markdown",
      "metadata": {
        "id": "view-in-github",
        "colab_type": "text"
      },
      "source": [
        "<a href=\"https://colab.research.google.com/github/mizzony/Aesthetic-Clinic-Beauty/blob/master/Ch06_set_and_dictionary.ipynb\" target=\"_parent\"><img src=\"https://colab.research.google.com/assets/colab-badge.svg\" alt=\"Open In Colab\"/></a>"
      ]
    },
    {
      "cell_type": "markdown",
      "metadata": {
        "id": "2mfiQc0r5qsK"
      },
      "source": [
        "&copy; 2022 by Pearson Education, Inc. All Rights Reserved. The content in this notebook is based on the book [**Python for Programmers**](https://amzn.to/2VvdnxE)."
      ]
    },
    {
      "cell_type": "markdown",
      "metadata": {
        "id": "wu-OLnGn5qsL"
      },
      "source": [
        "### Python Fundamentals LiveLessons Videos\n",
        "* For a detailed presentation of the content in this notebook see **[Lesson 6](https://learning.oreilly.com/videos/python-fundamentals/9780135917411/9780135917411-PFLL_Lesson06_00)** on O'Reilly Online Learning"
      ]
    },
    {
      "cell_type": "markdown",
      "metadata": {
        "jp-MarkdownHeadingCollapsed": true,
        "tags": [],
        "id": "aOtKVxFk5qsM"
      },
      "source": [
        "# 6. Dictionaries and Sets\n",
        "\n",
        "# 6.1 Introduction\n",
        "* Dictionaries for unordered collections of key–value pairs.\n",
        "* Sets for unordered collections of unique values.\n",
        "* Common dictionary and set manipulations.\n",
        "* Dictionary and set comparison operators.\n",
        "* Operators `in` and `not` `in` with dictionaries and sets.\n",
        "* Dictionary and set comprehensions.\n",
        "* A dynamic Matplotlib/Seaborn visualization."
      ]
    },
    {
      "cell_type": "markdown",
      "metadata": {
        "id": "PrnBZoQ25qsM"
      },
      "source": [
        "# 6.2 Dictionaries\n",
        "* A dictionary **maps** keys to values.\n",
        "* Keys must be **immutable** and **unique**.\n",
        "* Dictionaries also do not support slicing."
      ]
    },
    {
      "cell_type": "markdown",
      "metadata": {
        "id": "Zq58ZXiI5qsM"
      },
      "source": [
        "### Examples of Dictionaries\n",
        "\n",
        "| Keys | Key type | Values | Value type |\n",
        "| :-------- | :-------- | :-------- | :-------- |\n",
        "| Country names | `str` | Internet country codes | `str`  |\n",
        "| Decimal numbers | `int` | Roman numerals | `str`  |\n",
        "| Baseball players | `str`  | Batting averages | `float`  |"
      ]
    },
    {
      "cell_type": "markdown",
      "metadata": {
        "id": "lXAvKYE-5qsN"
      },
      "source": [
        "## 6.2.1 Creating a Dictionary"
      ]
    },
    {
      "cell_type": "code",
      "execution_count": 1,
      "metadata": {
        "id": "BToIr3zz5qsN"
      },
      "outputs": [],
      "source": [
        "country_codes = {'Finland': 'fi', 'South Africa': 'za', 'Nepal': 'np'}"
      ]
    },
    {
      "cell_type": "code",
      "execution_count": 2,
      "metadata": {
        "colab": {
          "base_uri": "https://localhost:8080/"
        },
        "id": "nJxAB4Vf5qsO",
        "outputId": "93c3730c-476c-428f-fc4f-86746fe01b42"
      },
      "outputs": [
        {
          "output_type": "execute_result",
          "data": {
            "text/plain": [
              "{'Finland': 'fi', 'South Africa': 'za', 'Nepal': 'np'}"
            ]
          },
          "metadata": {},
          "execution_count": 2
        }
      ],
      "source": [
        "country_codes"
      ]
    },
    {
      "cell_type": "markdown",
      "metadata": {
        "id": "2t4JfkMh5qsO"
      },
      "source": [
        "### Built-In Function `len` Returns the Number of Key–Value Pairs"
      ]
    },
    {
      "cell_type": "code",
      "execution_count": 3,
      "metadata": {
        "colab": {
          "base_uri": "https://localhost:8080/"
        },
        "id": "tTaOc7GI5qsP",
        "outputId": "b2e338b0-e28a-411c-c62d-3efbc5a82a88"
      },
      "outputs": [
        {
          "output_type": "execute_result",
          "data": {
            "text/plain": [
              "3"
            ]
          },
          "metadata": {},
          "execution_count": 3
        }
      ],
      "source": [
        "len(country_codes)"
      ]
    },
    {
      "cell_type": "markdown",
      "metadata": {
        "id": "LAtwTChz5qsP"
      },
      "source": [
        "### Can Use a Dictionary as a Condition to Determine Whether It’s Empty"
      ]
    },
    {
      "cell_type": "code",
      "execution_count": 4,
      "metadata": {
        "colab": {
          "base_uri": "https://localhost:8080/"
        },
        "id": "HGQp8fx_5qsP",
        "outputId": "c913e3ae-9854-44fb-a1fb-456086689660"
      },
      "outputs": [
        {
          "output_type": "stream",
          "name": "stdout",
          "text": [
            "country_codes is not empty\n"
          ]
        }
      ],
      "source": [
        "if country_codes:\n",
        "    print('country_codes is not empty')\n",
        "else:\n",
        "    print('country_codes is empty')"
      ]
    },
    {
      "cell_type": "markdown",
      "metadata": {
        "id": "uICyBk445qsP"
      },
      "source": [
        "## 6.2.2 Iterating through a Dictionary"
      ]
    },
    {
      "cell_type": "markdown",
      "metadata": {
        "id": "2AwaLqzx5qsP"
      },
      "source": [
        "### Method **`items`** Returns Key–Value Pairs as Tuples"
      ]
    },
    {
      "cell_type": "code",
      "execution_count": 5,
      "metadata": {
        "id": "cmYCKL9i5qsP"
      },
      "outputs": [],
      "source": [
        "days_per_month = {'January': 31, 'February': 28, 'March': 31}"
      ]
    },
    {
      "cell_type": "code",
      "execution_count": 6,
      "metadata": {
        "colab": {
          "base_uri": "https://localhost:8080/"
        },
        "id": "Z7RSf4Nj5qsQ",
        "outputId": "51b37c18-c33a-4895-824c-831d206de837"
      },
      "outputs": [
        {
          "output_type": "execute_result",
          "data": {
            "text/plain": [
              "{'January': 31, 'February': 28, 'March': 31}"
            ]
          },
          "metadata": {},
          "execution_count": 6
        }
      ],
      "source": [
        "days_per_month"
      ]
    },
    {
      "cell_type": "code",
      "execution_count": 7,
      "metadata": {
        "colab": {
          "base_uri": "https://localhost:8080/"
        },
        "id": "UkeG37CD5qsQ",
        "outputId": "7046224d-7a21-4c89-c988-760fed1d12ac"
      },
      "outputs": [
        {
          "output_type": "stream",
          "name": "stdout",
          "text": [
            "January has 31 days\n",
            "February has 28 days\n",
            "March has 31 days\n"
          ]
        }
      ],
      "source": [
        "for month, days in days_per_month.items():\n",
        "    print(f'{month} has {days} days')"
      ]
    },
    {
      "cell_type": "markdown",
      "metadata": {
        "id": "qCXg4Pjv5qsQ"
      },
      "source": [
        "## 6.2.3 Basic Dictionary Operations\n",
        "* `'X'` value is **intentionally incorrect**."
      ]
    },
    {
      "cell_type": "code",
      "execution_count": 8,
      "metadata": {
        "id": "D1DL-KJ85qsQ"
      },
      "outputs": [],
      "source": [
        "roman_numerals = {'I': 1, 'II': 2, 'III': 3, 'V': 5, 'X': 100}"
      ]
    },
    {
      "cell_type": "code",
      "execution_count": 9,
      "metadata": {
        "colab": {
          "base_uri": "https://localhost:8080/"
        },
        "id": "S6TAdpoz5qsQ",
        "outputId": "f30c3f2b-a127-4829-e67e-879f0812983c"
      },
      "outputs": [
        {
          "output_type": "execute_result",
          "data": {
            "text/plain": [
              "{'I': 1, 'II': 2, 'III': 3, 'V': 5, 'X': 100}"
            ]
          },
          "metadata": {},
          "execution_count": 9
        }
      ],
      "source": [
        "roman_numerals"
      ]
    },
    {
      "cell_type": "markdown",
      "metadata": {
        "id": "PeEgGkl85qsQ"
      },
      "source": [
        "### Accessing the Value Associated with a Key"
      ]
    },
    {
      "cell_type": "code",
      "execution_count": 10,
      "metadata": {
        "colab": {
          "base_uri": "https://localhost:8080/"
        },
        "id": "5AfzRfuD5qsQ",
        "outputId": "8dfd43da-eada-449c-91e7-7b0c41c2585d"
      },
      "outputs": [
        {
          "output_type": "execute_result",
          "data": {
            "text/plain": [
              "5"
            ]
          },
          "metadata": {},
          "execution_count": 10
        }
      ],
      "source": [
        "roman_numerals['V']"
      ]
    },
    {
      "cell_type": "markdown",
      "metadata": {
        "id": "wDTYiUrv5qsQ"
      },
      "source": [
        "### Updating the Value of an Existing Key–Value Pair"
      ]
    },
    {
      "cell_type": "code",
      "execution_count": 11,
      "metadata": {
        "id": "hiYcc3hh5qsQ"
      },
      "outputs": [],
      "source": [
        "roman_numerals['X'] = 10  # fix incorrect value"
      ]
    },
    {
      "cell_type": "code",
      "execution_count": 12,
      "metadata": {
        "colab": {
          "base_uri": "https://localhost:8080/"
        },
        "id": "XfPxW9Og5qsQ",
        "outputId": "10fca7b0-5e87-4bfb-cbb8-ab7db4956dfd"
      },
      "outputs": [
        {
          "output_type": "execute_result",
          "data": {
            "text/plain": [
              "{'I': 1, 'II': 2, 'III': 3, 'V': 5, 'X': 10}"
            ]
          },
          "metadata": {},
          "execution_count": 12
        }
      ],
      "source": [
        "roman_numerals"
      ]
    },
    {
      "cell_type": "markdown",
      "metadata": {
        "id": "rqgqQvmD5qsQ"
      },
      "source": [
        "### Adding a New Key–Value Pair By Assigning to a Nonexistent Key"
      ]
    },
    {
      "cell_type": "code",
      "execution_count": 13,
      "metadata": {
        "id": "Mcp9nZI35qsR"
      },
      "outputs": [],
      "source": [
        "roman_numerals['L'] = 50"
      ]
    },
    {
      "cell_type": "code",
      "execution_count": 14,
      "metadata": {
        "colab": {
          "base_uri": "https://localhost:8080/"
        },
        "id": "_hiHLbEH5qsR",
        "outputId": "0a9f836b-41a5-4a17-a0a8-8aea50e9e901"
      },
      "outputs": [
        {
          "output_type": "execute_result",
          "data": {
            "text/plain": [
              "{'I': 1, 'II': 2, 'III': 3, 'V': 5, 'X': 10, 'L': 50}"
            ]
          },
          "metadata": {},
          "execution_count": 14
        }
      ],
      "source": [
        "roman_numerals"
      ]
    },
    {
      "cell_type": "markdown",
      "metadata": {
        "id": "5Qi1aohW5qsR"
      },
      "source": [
        "### Removing a Key–Value Pair"
      ]
    },
    {
      "cell_type": "code",
      "execution_count": 15,
      "metadata": {
        "id": "kutLVs1W5qsR"
      },
      "outputs": [],
      "source": [
        "del roman_numerals['III']"
      ]
    },
    {
      "cell_type": "code",
      "execution_count": 16,
      "metadata": {
        "colab": {
          "base_uri": "https://localhost:8080/"
        },
        "id": "2zX6eNX15qsR",
        "outputId": "41281c79-2e36-4867-dc51-12c413b4aa60"
      },
      "outputs": [
        {
          "output_type": "execute_result",
          "data": {
            "text/plain": [
              "{'I': 1, 'II': 2, 'V': 5, 'X': 10, 'L': 50}"
            ]
          },
          "metadata": {},
          "execution_count": 16
        }
      ],
      "source": [
        "roman_numerals"
      ]
    },
    {
      "cell_type": "markdown",
      "metadata": {
        "id": "XWD63Abi5qsR"
      },
      "source": [
        "### Removing a Key–Value Pair and Getting the Corresponding Value"
      ]
    },
    {
      "cell_type": "code",
      "execution_count": 17,
      "metadata": {
        "colab": {
          "base_uri": "https://localhost:8080/"
        },
        "id": "cvAQ1iPD5qsR",
        "outputId": "737f57a8-9d0c-45e9-8dae-44d913d919d1"
      },
      "outputs": [
        {
          "output_type": "execute_result",
          "data": {
            "text/plain": [
              "10"
            ]
          },
          "metadata": {},
          "execution_count": 17
        }
      ],
      "source": [
        "roman_numerals.pop('X')"
      ]
    },
    {
      "cell_type": "code",
      "execution_count": 18,
      "metadata": {
        "colab": {
          "base_uri": "https://localhost:8080/"
        },
        "id": "WWAsTFAy5qsR",
        "outputId": "f4f4ffcd-106a-4e64-ac7d-bedc91f85783"
      },
      "outputs": [
        {
          "output_type": "execute_result",
          "data": {
            "text/plain": [
              "{'I': 1, 'II': 2, 'V': 5, 'L': 50}"
            ]
          },
          "metadata": {},
          "execution_count": 18
        }
      ],
      "source": [
        "roman_numerals"
      ]
    },
    {
      "cell_type": "markdown",
      "metadata": {
        "id": "hT7smjuu5qsR"
      },
      "source": [
        "### Attempting to Access a Nonexistent Key via `[]` is a `KeyError`"
      ]
    },
    {
      "cell_type": "code",
      "execution_count": 19,
      "metadata": {
        "colab": {
          "base_uri": "https://localhost:8080/",
          "height": 144
        },
        "id": "O86fugF-5qsR",
        "outputId": "0d8b87f9-d145-4dc7-c2bc-2eb414cd2b3a"
      },
      "outputs": [
        {
          "output_type": "error",
          "ename": "KeyError",
          "evalue": "'III'",
          "traceback": [
            "\u001b[0;31m---------------------------------------------------------------------------\u001b[0m",
            "\u001b[0;31mKeyError\u001b[0m                                  Traceback (most recent call last)",
            "\u001b[0;32m<ipython-input-19-ccd50c7f0c8b>\u001b[0m in \u001b[0;36m<cell line: 1>\u001b[0;34m()\u001b[0m\n\u001b[0;32m----> 1\u001b[0;31m \u001b[0mroman_numerals\u001b[0m\u001b[0;34m[\u001b[0m\u001b[0;34m'III'\u001b[0m\u001b[0;34m]\u001b[0m\u001b[0;34m\u001b[0m\u001b[0;34m\u001b[0m\u001b[0m\n\u001b[0m",
            "\u001b[0;31mKeyError\u001b[0m: 'III'"
          ]
        }
      ],
      "source": [
        "roman_numerals['III']"
      ]
    },
    {
      "cell_type": "markdown",
      "metadata": {
        "id": "RwFbiFy85qsR"
      },
      "source": [
        "### Dictionary Method **`get`** Returns `None` if the Key Is Not Found"
      ]
    },
    {
      "cell_type": "code",
      "execution_count": 20,
      "metadata": {
        "id": "vt2bBzWo5qsR"
      },
      "outputs": [],
      "source": [
        "roman_numerals.get('III')  # no output because None is returned"
      ]
    },
    {
      "cell_type": "code",
      "execution_count": 21,
      "metadata": {
        "colab": {
          "base_uri": "https://localhost:8080/"
        },
        "id": "sFFNV-Kj5qsR",
        "outputId": "92dcb626-ff63-4936-e05e-f654b098cfb5"
      },
      "outputs": [
        {
          "output_type": "execute_result",
          "data": {
            "text/plain": [
              "5"
            ]
          },
          "metadata": {},
          "execution_count": 21
        }
      ],
      "source": [
        "roman_numerals.get('V')"
      ]
    },
    {
      "cell_type": "markdown",
      "metadata": {
        "id": "yJ34l_tD5qsS"
      },
      "source": [
        "### `get` with a Second Argument Returns That Value When the Key Is Not Found"
      ]
    },
    {
      "cell_type": "code",
      "execution_count": 22,
      "metadata": {
        "colab": {
          "base_uri": "https://localhost:8080/",
          "height": 35
        },
        "id": "xivDoj1Q5qsS",
        "outputId": "7b094e73-875f-46ae-9b04-986c87377d38"
      },
      "outputs": [
        {
          "output_type": "execute_result",
          "data": {
            "text/plain": [
              "'III not in dictionary'"
            ],
            "application/vnd.google.colaboratory.intrinsic+json": {
              "type": "string"
            }
          },
          "metadata": {},
          "execution_count": 22
        }
      ],
      "source": [
        "roman_numerals.get('III', 'III not in dictionary')"
      ]
    },
    {
      "cell_type": "code",
      "execution_count": 23,
      "metadata": {
        "colab": {
          "base_uri": "https://localhost:8080/"
        },
        "id": "C60djMLq5qsS",
        "outputId": "a433604a-7287-438d-9cfc-dca92c23a0e4"
      },
      "outputs": [
        {
          "output_type": "execute_result",
          "data": {
            "text/plain": [
              "dict"
            ]
          },
          "metadata": {},
          "execution_count": 23
        }
      ],
      "source": [
        "type(roman_numerals)"
      ]
    },
    {
      "cell_type": "code",
      "execution_count": 24,
      "metadata": {
        "colab": {
          "base_uri": "https://localhost:8080/"
        },
        "id": "1Tyn8biQ5qsT",
        "outputId": "7e55b130-5afa-4d8e-93f2-028a88246803"
      },
      "outputs": [
        {
          "output_type": "stream",
          "name": "stdout",
          "text": [
            "false\n"
          ]
        }
      ],
      "source": [
        "if roman_numerals.get('III'):\n",
        "    print('true')\n",
        "else:\n",
        "    print('false')"
      ]
    },
    {
      "cell_type": "markdown",
      "metadata": {
        "id": "4CNe0Yvu5qsT"
      },
      "source": [
        "### Operators `in` and `not` `in` Test Whether a Dictionary Contains a Key"
      ]
    },
    {
      "cell_type": "code",
      "execution_count": null,
      "metadata": {
        "id": "l64yUCVd5qsT"
      },
      "outputs": [],
      "source": [
        "roman_numerals"
      ]
    },
    {
      "cell_type": "code",
      "execution_count": null,
      "metadata": {
        "id": "pLR72k3q5qsT"
      },
      "outputs": [],
      "source": [
        "'V' in roman_numerals"
      ]
    },
    {
      "cell_type": "code",
      "execution_count": null,
      "metadata": {
        "id": "lpHM-JVk5qsT"
      },
      "outputs": [],
      "source": [
        "'III' in roman_numerals"
      ]
    },
    {
      "cell_type": "markdown",
      "metadata": {
        "id": "qdsD6wRd5qsT"
      },
      "source": [
        "## 6.2.4 Dictionary Methods `keys` and `values`"
      ]
    },
    {
      "cell_type": "code",
      "execution_count": 25,
      "metadata": {
        "id": "uvatY3o75qsT"
      },
      "outputs": [],
      "source": [
        "months = {'January': 1, 'February': 2, 'March': 3}"
      ]
    },
    {
      "cell_type": "code",
      "source": [
        "for month_name in months.items(): #access the whole item (key and value)\n",
        "    print(month_name, end='  ')"
      ],
      "metadata": {
        "colab": {
          "base_uri": "https://localhost:8080/"
        },
        "id": "_KgxVK-3Nuy7",
        "outputId": "c0359125-bcb5-4fc5-ba4b-f1a83aac45aa"
      },
      "execution_count": 29,
      "outputs": [
        {
          "output_type": "stream",
          "name": "stdout",
          "text": [
            "('January', 1)  ('February', 2)  ('March', 3)  "
          ]
        }
      ]
    },
    {
      "cell_type": "code",
      "execution_count": 27,
      "metadata": {
        "colab": {
          "base_uri": "https://localhost:8080/"
        },
        "id": "YikTVdgr5qsT",
        "outputId": "d418edca-6fa8-49a4-ff7a-ba1f1818f2c2"
      },
      "outputs": [
        {
          "output_type": "stream",
          "name": "stdout",
          "text": [
            "January  February  March  "
          ]
        }
      ],
      "source": [
        "for month_name in months.keys(): #access key\n",
        "    print(month_name, end='  ')"
      ]
    },
    {
      "cell_type": "code",
      "execution_count": 28,
      "metadata": {
        "colab": {
          "base_uri": "https://localhost:8080/"
        },
        "id": "mrRM19io5qsT",
        "outputId": "84a6f733-6524-45f2-f85b-54c0e4fd824a"
      },
      "outputs": [
        {
          "output_type": "stream",
          "name": "stdout",
          "text": [
            "1  2  3  "
          ]
        }
      ],
      "source": [
        "for month_number in months.values(): #access value\n",
        "    print(month_number, end='  ')"
      ]
    },
    {
      "cell_type": "markdown",
      "metadata": {
        "id": "o6YLvjmf5qsT"
      },
      "source": [
        "### Dictionary Methods `items`, `keys` and `values` Each Return a View of a Dictionary’s Data\n",
        "* When you iterate over a **`view`**, it “sees” the dictionary’s **current contents** — it does **not** have its own copy of the data."
      ]
    },
    {
      "cell_type": "code",
      "execution_count": 30,
      "metadata": {
        "colab": {
          "base_uri": "https://localhost:8080/"
        },
        "id": "0SVHxiRk5qsT",
        "outputId": "46fce785-03e3-47d0-d3fa-629039237f48"
      },
      "outputs": [
        {
          "output_type": "execute_result",
          "data": {
            "text/plain": [
              "{'January': 1, 'February': 2, 'March': 3}"
            ]
          },
          "metadata": {},
          "execution_count": 30
        }
      ],
      "source": [
        "months"
      ]
    },
    {
      "cell_type": "code",
      "execution_count": 31,
      "metadata": {
        "id": "Vb0KKus55qsT"
      },
      "outputs": [],
      "source": [
        "months_view = months.keys()"
      ]
    },
    {
      "cell_type": "code",
      "execution_count": 32,
      "metadata": {
        "colab": {
          "base_uri": "https://localhost:8080/"
        },
        "id": "AwKgoi5w5qsU",
        "outputId": "e69ef6ff-6f3a-49c7-ddec-afdd2c3f8ef1"
      },
      "outputs": [
        {
          "output_type": "stream",
          "name": "stdout",
          "text": [
            "January  February  March  "
          ]
        }
      ],
      "source": [
        "for key in months_view:\n",
        "    print(key, end='  ')"
      ]
    },
    {
      "cell_type": "code",
      "execution_count": 33,
      "metadata": {
        "id": "yyFDi8gC5qsU"
      },
      "outputs": [],
      "source": [
        "months['December'] = 12  # add new key-value pair"
      ]
    },
    {
      "cell_type": "code",
      "execution_count": 36,
      "metadata": {
        "colab": {
          "base_uri": "https://localhost:8080/"
        },
        "id": "peH1aQGq5qsU",
        "outputId": "a1fd47af-6522-43f7-9fb0-69d0173f2094"
      },
      "outputs": [
        {
          "output_type": "execute_result",
          "data": {
            "text/plain": [
              "{'January': 1, 'February': 2, 'March': 3, 'December': 12}"
            ]
          },
          "metadata": {},
          "execution_count": 36
        }
      ],
      "source": [
        "months"
      ]
    },
    {
      "cell_type": "code",
      "execution_count": 37,
      "metadata": {
        "colab": {
          "base_uri": "https://localhost:8080/"
        },
        "id": "y50EItIs5qsU",
        "outputId": "cc6b807e-c21b-449b-9246-0182f3b252c6"
      },
      "outputs": [
        {
          "output_type": "stream",
          "name": "stdout",
          "text": [
            "January  February  March  December  "
          ]
        }
      ],
      "source": [
        "for key in months_view:  # iterate over view again\n",
        "    print(key, end='  ')"
      ]
    },
    {
      "cell_type": "markdown",
      "metadata": {
        "id": "YYKp4oGu5qsU"
      },
      "source": [
        "## 6.2.5 Dictionary Comparisons with `==` and `!=`\n",
        "* `==` is `True` if both dictionaries have the same key–value pairs, **_regardless_ of insertion order**"
      ]
    },
    {
      "cell_type": "code",
      "execution_count": 38,
      "metadata": {
        "id": "IozLMWV05qsU"
      },
      "outputs": [],
      "source": [
        "country_capitals1 = {'Belgium': 'Brussels',\n",
        "                     'Haiti': 'Port-au-Prince'}"
      ]
    },
    {
      "cell_type": "code",
      "execution_count": 39,
      "metadata": {
        "id": "frqKvRLl5qsU"
      },
      "outputs": [],
      "source": [
        "country_capitals2 = {'Nepal': 'Kathmandu',\n",
        "                     'Uruguay': 'Montevideo'}"
      ]
    },
    {
      "cell_type": "code",
      "execution_count": 40,
      "metadata": {
        "id": "qOtJ_3km5qsU"
      },
      "outputs": [],
      "source": [
        "country_capitals3 = {'Haiti': 'Port-au-Prince',\n",
        "                     'Belgium': 'Brussels'}"
      ]
    },
    {
      "cell_type": "code",
      "execution_count": 41,
      "metadata": {
        "colab": {
          "base_uri": "https://localhost:8080/"
        },
        "id": "EA4Kv4z15qsU",
        "outputId": "c0a66e5a-228e-4e79-d283-1226f508948f"
      },
      "outputs": [
        {
          "output_type": "execute_result",
          "data": {
            "text/plain": [
              "True"
            ]
          },
          "metadata": {},
          "execution_count": 41
        }
      ],
      "source": [
        "country_capitals1 == country_capitals3"
      ]
    },
    {
      "cell_type": "code",
      "execution_count": 42,
      "metadata": {
        "colab": {
          "base_uri": "https://localhost:8080/"
        },
        "id": "LlCCS8lW5qsU",
        "outputId": "dd4f0961-b357-49ae-c983-c64438f8bf88"
      },
      "outputs": [
        {
          "output_type": "execute_result",
          "data": {
            "text/plain": [
              "False"
            ]
          },
          "metadata": {},
          "execution_count": 42
        }
      ],
      "source": [
        "country_capitals1 == country_capitals2"
      ]
    },
    {
      "cell_type": "markdown",
      "metadata": {
        "id": "BTGkmqaZ5qsU"
      },
      "source": [
        "## 6.2.7 Example: Word Counts\n",
        "* The following script builds a dictionary to count the number of occurrences of each word in a **tokenized** string.\n",
        "* Python automatically concatenates strings separated by whitespace in parentheses."
      ]
    },
    {
      "cell_type": "markdown",
      "metadata": {
        "id": "FppZLfF85qsV"
      },
      "source": [
        "```python\n",
        "# fig06_02.py\n",
        "\"\"\"Tokenizing a string and counting unique words.\"\"\"\n",
        "\n",
        "text = ('this is sample text with several words '\n",
        "        'this is more sample text with some different words')\n",
        "\n",
        "word_counts = {}\n",
        "\n",
        "# count occurrences of each unique word\n",
        "for word in text.split():\n",
        "    if word in word_counts:\n",
        "        word_counts[word] += 1  # update existing key-value pair\n",
        "    else:\n",
        "        word_counts[word] = 1  # insert new key-value pair\n",
        "\n",
        "print(f'{\"WORD\":<12}COUNT')\n",
        "\n",
        "for word, count in sorted(word_counts.items()):\n",
        "    print(f'{word:<12}{count}')\n",
        "\n",
        "print('\\nNumber of unique words:', len(word_counts))\n",
        "```"
      ]
    },
    {
      "cell_type": "code",
      "execution_count": 44,
      "metadata": {
        "colab": {
          "base_uri": "https://localhost:8080/"
        },
        "id": "4mGt-mvy5qsV",
        "outputId": "e72b3f13-6ffa-4d1b-8cb5-b188566a41a0"
      },
      "outputs": [
        {
          "output_type": "stream",
          "name": "stdout",
          "text": [
            "WORD        COUNT\n",
            "different   1\n",
            "is          2\n",
            "more        1\n",
            "sample      2\n",
            "several     1\n",
            "some        1\n",
            "text        2\n",
            "this        2\n",
            "with        2\n",
            "words       2\n",
            "\n",
            "Number of unique words: 10\n"
          ]
        }
      ],
      "source": [
        "run fig06_02.py"
      ]
    },
    {
      "cell_type": "markdown",
      "metadata": {
        "id": "r5YmJtat5qsV"
      },
      "source": [
        "### Python Standard Library Module `collections` and Class **`Counter`**\n",
        "* The Python Standard Library already contains the counting functionality shown above.\n",
        "* A **`Counter`** receives an iterable and summarizes its elements."
      ]
    },
    {
      "cell_type": "code",
      "execution_count": null,
      "metadata": {
        "id": "ow8AY9H_5qsV"
      },
      "outputs": [],
      "source": [
        "from collections import Counter"
      ]
    },
    {
      "cell_type": "code",
      "execution_count": null,
      "metadata": {
        "id": "IQzx2pwu5qsV"
      },
      "outputs": [],
      "source": [
        "text = ('this is sample text with several words '\n",
        "        'this is more sample text with some different words')"
      ]
    },
    {
      "cell_type": "code",
      "execution_count": null,
      "metadata": {
        "id": "mTMqPFxP5qsV"
      },
      "outputs": [],
      "source": [
        "counter = Counter(text.split())"
      ]
    },
    {
      "cell_type": "code",
      "execution_count": null,
      "metadata": {
        "id": "hielxjL05qsV"
      },
      "outputs": [],
      "source": [
        "for word, count in sorted(counter.items()):\n",
        "    print(f'{word:<12}{count}')"
      ]
    },
    {
      "cell_type": "code",
      "execution_count": null,
      "metadata": {
        "id": "NJzxIPcK5qsV"
      },
      "outputs": [],
      "source": [
        "print('Number of unique keys:', len(counter))"
      ]
    },
    {
      "cell_type": "markdown",
      "metadata": {
        "id": "GZMtNWVQ5qsW"
      },
      "source": [
        "## 6.2.8 Dictionary Method `update` Can Insert and Update Key–Value Pairs\n",
        "* Method `update` also can receive an iterable object containing key–value pairs, such as a list of two-element tuples."
      ]
    },
    {
      "cell_type": "code",
      "execution_count": null,
      "metadata": {
        "id": "1RRQZifF5qsW"
      },
      "outputs": [],
      "source": [
        "country_codes = {}"
      ]
    },
    {
      "cell_type": "code",
      "execution_count": null,
      "metadata": {
        "id": "2QG453vd5qsW"
      },
      "outputs": [],
      "source": [
        "# could receive dict of many key-value pairs\n",
        "country_codes.update({'South Africa': 'za'})"
      ]
    },
    {
      "cell_type": "code",
      "execution_count": null,
      "metadata": {
        "id": "wDTMEe3_5qsW"
      },
      "outputs": [],
      "source": [
        "country_codes"
      ]
    },
    {
      "cell_type": "markdown",
      "metadata": {
        "id": "ug0jRNeZ5qsW"
      },
      "source": [
        "* Method `update` converts keyword arguments into key–value pairs."
      ]
    },
    {
      "cell_type": "code",
      "execution_count": null,
      "metadata": {
        "id": "YxDM1HVz5qsW"
      },
      "outputs": [],
      "source": [
        "country_codes.update(Australia='ar')  # purposely incorrect country code 'ar'"
      ]
    },
    {
      "cell_type": "code",
      "execution_count": null,
      "metadata": {
        "id": "dinmB_vG5qsW"
      },
      "outputs": [],
      "source": [
        "country_codes"
      ]
    },
    {
      "cell_type": "markdown",
      "metadata": {
        "id": "pxbJK0nk5qsW"
      },
      "source": [
        "* Let's update the country code for `Australia`."
      ]
    },
    {
      "cell_type": "code",
      "execution_count": null,
      "metadata": {
        "id": "bgtmaAUH5qsW"
      },
      "outputs": [],
      "source": [
        "country_codes.update(Australia='au')  # fixes incorrect value"
      ]
    },
    {
      "cell_type": "code",
      "execution_count": null,
      "metadata": {
        "id": "Z9vSLAOX5qsW"
      },
      "outputs": [],
      "source": [
        "country_codes"
      ]
    },
    {
      "cell_type": "markdown",
      "metadata": {
        "id": "8qOOYlBV5qsW"
      },
      "source": [
        "## 6.2.9 Dictionary Comprehensions\n",
        "* Quickly generate dictionaries, often by **mapping** one dictionary to another.\n",
        "* Expression to the left of the `for` clause specifies a **key–value pair of the form _key_`:` _value_**.\n",
        "* In a dictionary with **_unique_ values**, you can **reverse** the key–value pair mappings."
      ]
    },
    {
      "cell_type": "code",
      "execution_count": null,
      "metadata": {
        "id": "GUK1TTMY5qsX"
      },
      "outputs": [],
      "source": [
        "months = {'January': 1, 'February': 2, 'March': 3}"
      ]
    },
    {
      "cell_type": "code",
      "execution_count": null,
      "metadata": {
        "id": "1AFoGMIo5qsX"
      },
      "outputs": [],
      "source": [
        "months2 = {number: name for name, number in months.items()}"
      ]
    },
    {
      "cell_type": "code",
      "execution_count": null,
      "metadata": {
        "id": "ibvndryN5qsX"
      },
      "outputs": [],
      "source": [
        "months2"
      ]
    },
    {
      "cell_type": "code",
      "execution_count": null,
      "metadata": {
        "id": "AZQFRxpH5qsX"
      },
      "outputs": [],
      "source": [
        "months2[2]"
      ]
    },
    {
      "cell_type": "markdown",
      "metadata": {
        "id": "Ihzzl9UG5qsX"
      },
      "source": [
        "### Map a Dictionary’s Values to New Values with a Comprehension\n",
        "* From a dictionary of names and lists of grades, create a dictionary of names and grade-point averages."
      ]
    },
    {
      "cell_type": "code",
      "execution_count": null,
      "metadata": {
        "id": "rkS7IWbj5qsX"
      },
      "outputs": [],
      "source": [
        "grades = {'Sue': [98, 87, 94],\n",
        "          'Bob': [84, 95, 91]}"
      ]
    },
    {
      "cell_type": "code",
      "execution_count": null,
      "metadata": {
        "id": "oiVhpzJx5qsX"
      },
      "outputs": [],
      "source": [
        "grades2 = {k: sum(v) / len(v) for k, v in grades.items()}"
      ]
    },
    {
      "cell_type": "code",
      "execution_count": null,
      "metadata": {
        "id": "dyFGurIa5qsX"
      },
      "outputs": [],
      "source": [
        "grades2"
      ]
    },
    {
      "cell_type": "markdown",
      "metadata": {
        "id": "CpBENRQv5qsX"
      },
      "source": [
        "# 6.3 Sets\n",
        "* Unordered collections of **unique values**.\n",
        "* May contain **only immutable objects**, like strings, `int`s, `float`s and tuples that contain only immutable elements.\n",
        "* Sets do not support indexing and slicing."
      ]
    },
    {
      "cell_type": "markdown",
      "metadata": {
        "id": "gnYrYlMf5qsX"
      },
      "source": [
        "### Creating a Set with Curly Braces\n",
        "* Duplicates are ignored&mdash;great for **duplicate elimination**."
      ]
    },
    {
      "cell_type": "code",
      "execution_count": null,
      "metadata": {
        "id": "CynedvTT5qsX"
      },
      "outputs": [],
      "source": [
        "colors = {'red', 'orange', 'yellow', 'green', 'red', 'blue'}"
      ]
    },
    {
      "cell_type": "markdown",
      "metadata": {
        "id": "a0c_trAw5qsX"
      },
      "source": [
        "* Though the output below is sorted, sets are **unordered**&mdash;do not write order-dependent code."
      ]
    },
    {
      "cell_type": "code",
      "execution_count": null,
      "metadata": {
        "id": "7NxnQldf5qsX"
      },
      "outputs": [],
      "source": [
        "colors"
      ]
    },
    {
      "cell_type": "markdown",
      "metadata": {
        "id": "Ks91J11h5qsY"
      },
      "source": [
        "### Determining a Set’s Length"
      ]
    },
    {
      "cell_type": "code",
      "execution_count": null,
      "metadata": {
        "id": "fLg-pZY85qsY"
      },
      "outputs": [],
      "source": [
        "len(colors)"
      ]
    },
    {
      "cell_type": "markdown",
      "metadata": {
        "id": "61XYeX1I5qsY"
      },
      "source": [
        "### Operators `in` and `not` `in`: Checking Whether a Value Is in a Set"
      ]
    },
    {
      "cell_type": "code",
      "execution_count": null,
      "metadata": {
        "id": "cfIUQF8H5qsY"
      },
      "outputs": [],
      "source": [
        "colors"
      ]
    },
    {
      "cell_type": "code",
      "execution_count": null,
      "metadata": {
        "id": "wfK7xJfr5qsY"
      },
      "outputs": [],
      "source": [
        "'red' in colors"
      ]
    },
    {
      "cell_type": "code",
      "execution_count": null,
      "metadata": {
        "id": "S7_bj-p45qsY"
      },
      "outputs": [],
      "source": [
        "'purple' in colors"
      ]
    },
    {
      "cell_type": "markdown",
      "metadata": {
        "id": "zrshx3wu5qsY"
      },
      "source": [
        "### Iterating Through a Set"
      ]
    },
    {
      "cell_type": "code",
      "execution_count": null,
      "metadata": {
        "id": "cDlmR7945qsY"
      },
      "outputs": [],
      "source": [
        "colors"
      ]
    },
    {
      "cell_type": "code",
      "execution_count": null,
      "metadata": {
        "id": "8PhZWgQN5qsY"
      },
      "outputs": [],
      "source": [
        "for color in colors:  # no significance to iteration order\n",
        "    print(color.upper(), end=' ')"
      ]
    },
    {
      "cell_type": "markdown",
      "metadata": {
        "id": "X_sR2OwA5qsY"
      },
      "source": [
        "### Creating a Set from Another Collection with the Built-In `set` Function"
      ]
    },
    {
      "cell_type": "code",
      "execution_count": null,
      "metadata": {
        "id": "UDTbIKAf5qsY"
      },
      "outputs": [],
      "source": [
        "numbers = list(range(5)) + list(range(3))"
      ]
    },
    {
      "cell_type": "code",
      "execution_count": null,
      "metadata": {
        "id": "dnpfRDH45qsY"
      },
      "outputs": [],
      "source": [
        "numbers"
      ]
    },
    {
      "cell_type": "code",
      "execution_count": null,
      "metadata": {
        "id": "Xj2XAl7h5qsY"
      },
      "outputs": [],
      "source": [
        "set(numbers)"
      ]
    },
    {
      "cell_type": "markdown",
      "metadata": {
        "id": "8p_Zzulb5qsY"
      },
      "source": [
        "### Creating an Empty Set\n",
        "* Must use the **`set()`**, because **`{}` represents an empty dictionary**.\n",
        "* Python displays an empty set as `set()` to avoid confusion with an empty dictionary (`{}`)."
      ]
    },
    {
      "cell_type": "code",
      "execution_count": null,
      "metadata": {
        "id": "wCA3HHvy5qsZ"
      },
      "outputs": [],
      "source": [
        "type({})"
      ]
    },
    {
      "cell_type": "code",
      "execution_count": null,
      "metadata": {
        "id": "-XOM7C7z5qsZ"
      },
      "outputs": [],
      "source": [
        "s = set()"
      ]
    },
    {
      "cell_type": "code",
      "execution_count": null,
      "metadata": {
        "id": "JauUWnpx5qsZ"
      },
      "outputs": [],
      "source": [
        "s"
      ]
    },
    {
      "cell_type": "code",
      "execution_count": null,
      "metadata": {
        "id": "kbRLY0yR5qsZ"
      },
      "outputs": [],
      "source": [
        "len(s)"
      ]
    },
    {
      "cell_type": "code",
      "execution_count": null,
      "metadata": {
        "id": "Ab8YrSyr5qsZ"
      },
      "outputs": [],
      "source": [
        "type(s)"
      ]
    },
    {
      "cell_type": "markdown",
      "metadata": {
        "id": "cnf0VVhn5qsZ"
      },
      "source": [
        "### Frozenset: An Immutable Set Type\n",
        "* **Sets are _mutable_** — you can add and remove elements.\n",
        "* **Set _elements_ must be _immutable_**; therefore, a set cannot have other sets as elements.\n",
        "* A **frozenset** is an _immutable_ set — it cannot be modified after you create it, so a set _can_ contain frozensets as elements.\n",
        "* The built-in function **`frozenset`** creates a frozenset from any iterable."
      ]
    },
    {
      "cell_type": "markdown",
      "metadata": {
        "id": "FghrvzGX5qsZ"
      },
      "source": [
        "## 6.3.1 Comparing Sets"
      ]
    },
    {
      "cell_type": "markdown",
      "metadata": {
        "id": "8V6NyTrN5qsZ"
      },
      "source": [
        "### Comparing for Equality and Inequality"
      ]
    },
    {
      "cell_type": "code",
      "execution_count": null,
      "metadata": {
        "id": "PSG7YU905qsZ"
      },
      "outputs": [],
      "source": [
        "{1, 3, 5} == {3, 5, 1}"
      ]
    },
    {
      "cell_type": "code",
      "execution_count": null,
      "metadata": {
        "id": "kaIl0tdx5qsZ"
      },
      "outputs": [],
      "source": [
        "{1, 3, 5} != {3, 5, 1}"
      ]
    },
    {
      "cell_type": "markdown",
      "metadata": {
        "id": "NX4AnwFB5qsZ"
      },
      "source": [
        "### Testing for Proper Subsets\n",
        "* The `<` operator tests whether the set to its left is a **proper subset** of the one to its right — that is, all the elements in the left operand are in the right operand, and **the sets are not equal**."
      ]
    },
    {
      "cell_type": "code",
      "execution_count": null,
      "metadata": {
        "id": "W-HetKph5qsZ"
      },
      "outputs": [],
      "source": [
        "{1, 3, 5} < {3, 5, 1}"
      ]
    },
    {
      "cell_type": "code",
      "execution_count": null,
      "metadata": {
        "id": "lHI3A1Bk5qsZ"
      },
      "outputs": [],
      "source": [
        "{1, 3, 5} < {7, 3, 5, 1}"
      ]
    },
    {
      "cell_type": "markdown",
      "metadata": {
        "id": "HqKOJ5S95qsZ"
      },
      "source": [
        "### Testing for Improper Subsets\n",
        "* The `<=` operator tests whether the set to its left is an **improper subset** of the one to its right—that is, all the elements in the left operand are in the right operand, and **the sets might be equal**:"
      ]
    },
    {
      "cell_type": "code",
      "execution_count": null,
      "metadata": {
        "id": "zVVaVN5J5qsa"
      },
      "outputs": [],
      "source": [
        "{1, 3, 5} <= {3, 5, 1}"
      ]
    },
    {
      "cell_type": "code",
      "execution_count": null,
      "metadata": {
        "id": "jtKHUq7A5qsa"
      },
      "outputs": [],
      "source": [
        "{1, 3} <= {3, 5, 1}"
      ]
    },
    {
      "cell_type": "markdown",
      "metadata": {
        "id": "8Q9WUnnz5qsa"
      },
      "source": [
        "* You may also check for an improper subset with the set method **`issubset`**:"
      ]
    },
    {
      "cell_type": "code",
      "execution_count": null,
      "metadata": {
        "id": "Nj-vAl015qsa"
      },
      "outputs": [],
      "source": [
        "{1, 3, 5}.issubset({3, 5, 1})"
      ]
    },
    {
      "cell_type": "code",
      "execution_count": null,
      "metadata": {
        "id": "X_boXZoq5qsa"
      },
      "outputs": [],
      "source": [
        "{1, 2}.issubset({3, 5, 1})"
      ]
    },
    {
      "cell_type": "markdown",
      "metadata": {
        "id": "gwcLAYim5qsa"
      },
      "source": [
        "* Similarly, you may also check for a **proper superset** with `>` and **improper supersets** with `>=` or set method **`issuperset`**."
      ]
    },
    {
      "cell_type": "markdown",
      "metadata": {
        "id": "EbYxmdcP5qsa"
      },
      "source": [
        "### The Argument to `issubset` or `issuperset` Can Be _Any_ Iterable\n",
        "* When either of these methods receives a non-set iterable argument, it first converts the iterable to a set, then performs the operation."
      ]
    },
    {
      "cell_type": "markdown",
      "metadata": {
        "id": "i7vCRT1f5qsa"
      },
      "source": [
        "## 6.3.2 Mathematical Set Operations\n",
        "* The method versions receive any iterable and convert it to a set, then perform the corresponding mathematical set operation.\n",
        "\n",
        "| Operation | Set Operator | Corresponding Method  |\n",
        "| :-----| :-----| :----- |\n",
        "| Union | `\\|` | `union` |\n",
        "| Intersection | `&` | `intersection` |\n",
        "| Difference | `-` | `difference` |\n",
        "| Symmetric Difference | `^` | `symmetric_difference` |\n",
        "| Disjoint | N/A | `isdisjoint` |"
      ]
    },
    {
      "cell_type": "markdown",
      "metadata": {
        "id": "8m8mPzG05qsa"
      },
      "source": [
        "## 6.3.3 Mutable Set Operators and Methods\n",
        "* The operators and methods presented in the preceding section each result in a _new_ set.\n",
        "* There are also operators and methods that **modify an _existing_ set**.\n",
        "* See the [`set` documentation](https://docs.python.org/3/library/stdtypes.html#set-types-set-frozenset) for a complete list of operators and methods."
      ]
    },
    {
      "cell_type": "markdown",
      "metadata": {
        "id": "dwvfIje75qsa"
      },
      "source": [
        "### Methods for Adding and Removing Elements\n",
        "* Set method **`add`** inserts its argument if the argument is _not_ already in the set; otherwise, the set remains unchanged."
      ]
    },
    {
      "cell_type": "code",
      "execution_count": null,
      "metadata": {
        "id": "u_Y4Tilq5qsa"
      },
      "outputs": [],
      "source": [
        "numbers"
      ]
    },
    {
      "cell_type": "code",
      "execution_count": null,
      "metadata": {
        "id": "u-1QC4Tq5qsa"
      },
      "outputs": [],
      "source": [
        "myset = set(numbers)"
      ]
    },
    {
      "cell_type": "code",
      "execution_count": null,
      "metadata": {
        "id": "dvLiKPAg5qsa"
      },
      "outputs": [],
      "source": [
        "myset"
      ]
    },
    {
      "cell_type": "code",
      "execution_count": null,
      "metadata": {
        "id": "5UsZzVva5qsa"
      },
      "outputs": [],
      "source": [
        "myset.add(17)"
      ]
    },
    {
      "cell_type": "code",
      "execution_count": null,
      "metadata": {
        "id": "iL4Bfybh5qsa"
      },
      "outputs": [],
      "source": [
        "myset"
      ]
    },
    {
      "cell_type": "code",
      "execution_count": null,
      "metadata": {
        "id": "2dmXf3iR5qsb"
      },
      "outputs": [],
      "source": [
        "myset.add(3)"
      ]
    },
    {
      "cell_type": "code",
      "execution_count": null,
      "metadata": {
        "id": "iHOszDb05qsb"
      },
      "outputs": [],
      "source": [
        "myset"
      ]
    },
    {
      "cell_type": "markdown",
      "metadata": {
        "id": "4r4JaKIT5qsb"
      },
      "source": [
        "### Removing a Specific Element with Set Method **`remove`**\n",
        "* Removes its argument from the set&mdash;raises a **`KeyError`** if the value is not in the set.\n",
        "* Method **`discard`** also removes its argument from the set but **does not cause an exception if the value is not in the set**."
      ]
    },
    {
      "cell_type": "code",
      "execution_count": null,
      "metadata": {
        "id": "HvEUELHy5qsb"
      },
      "outputs": [],
      "source": [
        "myset.remove(3)  # KeyError if 3 not in set"
      ]
    },
    {
      "cell_type": "code",
      "execution_count": null,
      "metadata": {
        "id": "bhCURZPI5qsb"
      },
      "outputs": [],
      "source": [
        "myset"
      ]
    },
    {
      "cell_type": "markdown",
      "metadata": {
        "id": "3kqcPJlV5qsb"
      },
      "source": [
        "### Clearing a Set"
      ]
    },
    {
      "cell_type": "code",
      "execution_count": null,
      "metadata": {
        "id": "i91gKhaW5qsb"
      },
      "outputs": [],
      "source": [
        "myset.clear()"
      ]
    },
    {
      "cell_type": "code",
      "execution_count": null,
      "metadata": {
        "id": "gwYlRIb65qsb"
      },
      "outputs": [],
      "source": [
        "myset"
      ]
    },
    {
      "cell_type": "markdown",
      "metadata": {
        "id": "lHxbSYcS5qsb"
      },
      "source": [
        "## 6.3.4 Set Comprehensions"
      ]
    },
    {
      "cell_type": "code",
      "execution_count": null,
      "metadata": {
        "id": "Ybs_sNKr5qsb"
      },
      "outputs": [],
      "source": [
        "numbers = [1, 2, 2, 3, 4, 5, 6, 6, 7, 8, 9, 10, 10]"
      ]
    },
    {
      "cell_type": "code",
      "execution_count": null,
      "metadata": {
        "id": "fpmaY-te5qsb"
      },
      "outputs": [],
      "source": [
        "evens = {item for item in numbers if item % 2 == 0}"
      ]
    },
    {
      "cell_type": "code",
      "execution_count": null,
      "metadata": {
        "id": "wPhMkROj5qsb"
      },
      "outputs": [],
      "source": [
        "evens"
      ]
    },
    {
      "cell_type": "markdown",
      "metadata": {
        "id": "G2l4KQpz5qsb"
      },
      "source": [
        "# 6.4 Dynamic Visualizations\n",
        "* The Matplotlib **`animation`** module’s [**`FuncAnimation`** function](https://matplotlib.org/3.1.0/api/_as_gen/matplotlib.animation.FuncAnimation.html) updates a plot _dynamically_.\n",
        "\n",
        "<img alt=\"Sample image of the dynamic die rolling simulation after 64 die rolls\" src=\"./ch06images/Animation_01.png\" width=\"500\"/>\n",
        "<img alt=\"Sample image of the dynamic die rolling simulation after 604 die rolls\" src=\"./ch06images/Animation_02.png\" width=\"500\"/>\n"
      ]
    },
    {
      "cell_type": "markdown",
      "metadata": {
        "id": "kuHR55ob5qsb"
      },
      "source": [
        "### Animation Frames\n",
        "* `FuncAnimation` drives a **frame-by-frame animation**.\n",
        "* Each **animation frame** specifies what to change during one plot update.\n",
        "* Stringing together many updates over time creates an animation.\n",
        "* This example displays an animation frame every 33 milliseconds—yielding approximately 30 (1000 / 33) frames-per-second."
      ]
    },
    {
      "cell_type": "markdown",
      "metadata": {
        "id": "XkpPTEXQ5qsb"
      },
      "source": [
        "### Test-Driving `RollDieDynamic.py` from the Command Line\n",
        "1. Access the command line in Jupyter with **File > New > Terminal**.\n",
        "2. `cd ch06`.\n",
        "3. Execute\n",
        "\n",
        "```\n",
        "ipython RollDieDynamic.py 6000 1\n",
        "```\n",
        "* 6000 is the number of animation frames to display.\n",
        "* 1 is the number of die rolls to summarize in each animation frame.\n"
      ]
    },
    {
      "cell_type": "markdown",
      "metadata": {
        "id": "nf9ihZIV5qsc"
      },
      "source": [
        "## 6.4.2 Implementing a Dynamic Visualization\n",
        "To be able to run FuncAnimations in JupyterLab (instructions from https://github.com/matplotlib/jupyter-matplotlib):\n",
        "1. `conda install -c conda-forge ipympl`\n",
        "2. `conda install nodejs`\n",
        "3. `jupyter labextension install @jupyter-widgets/jupyterlab-manager`\n",
        "4. `jupyter labextension install jupyter-matplotlib`\n"
      ]
    },
    {
      "cell_type": "code",
      "execution_count": null,
      "metadata": {
        "id": "DRtcwbpW5qsc"
      },
      "outputs": [],
      "source": [
        "%matplotlib widget"
      ]
    },
    {
      "cell_type": "code",
      "execution_count": null,
      "metadata": {
        "colab": {
          "referenced_widgets": [
            "94c51226ce694d8296d350e2ac0712cf"
          ]
        },
        "id": "0MNd8hrG5qsc",
        "outputId": "4a57f45d-8de2-44a7-a9d7-9fc98bbe4bd3"
      },
      "outputs": [
        {
          "data": {
            "application/vnd.jupyter.widget-view+json": {
              "model_id": "94c51226ce694d8296d350e2ac0712cf",
              "version_major": 2,
              "version_minor": 0
            },
            "image/png": "[encoded data removed]",
            "text/html": [
              "\n",
              "            <div style=\"display: inline-block;\">\n",
              "                <div class=\"jupyter-widgets widget-label\" style=\"text-align: center;\">\n",
              "                    Rolling a Six-Sided Die\n",
              "                </div>\n",
              "                <img src='data:image/png;base64,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' width=640.0/>\n",
              "            </div>\n",
              "        "
            ],
            "text/plain": [
              "Canvas(toolbar=None)"
            ]
          },
          "metadata": {},
          "output_type": "display_data"
        }
      ],
      "source": [
        "# RollDieDynamic.py\n",
        "\"\"\"Dynamically graphing frequencies of die rolls.\"\"\"\n",
        "from matplotlib import animation\n",
        "import matplotlib.pyplot as plt\n",
        "import random\n",
        "import seaborn as sns\n",
        "import sys\n",
        "\n",
        "def update(frame_number, rolls, faces, frequencies):\n",
        "    \"\"\"Configures bar plot contents for each animation frame.\"\"\"\n",
        "    # roll die and update frequencies\n",
        "    for i in range(rolls):\n",
        "        frequencies[random.randrange(1, 7) - 1] += 1\n",
        "\n",
        "    # reconfigure plot for updated die frequencies\n",
        "    plt.cla()  # clear old contents contents of current Figure\n",
        "    axes = sns.barplot(x=faces, y=frequencies, palette='bright')  # new bars\n",
        "    axes.set_title(f'Die Frequencies for {sum(frequencies):,} Rolls')\n",
        "    axes.set(xlabel='Die Value', ylabel='Frequency')\n",
        "    axes.set_ylim(top=max(frequencies) * 1.10)  # scale y-axis by 10%\n",
        "\n",
        "    # display frequency & percentage above each patch (bar)\n",
        "    for bar, frequency in zip(axes.patches, frequencies):\n",
        "        text_x = bar.get_x() + bar.get_width() / 2.0\n",
        "        text_y = bar.get_height()\n",
        "        text = f'{frequency:,}\\n{frequency / sum(frequencies):.3%}'\n",
        "        axes.text(text_x, text_y, text, ha='center', va='bottom')\n",
        "\n",
        "\n",
        "# read command-line arguments for number of frames and rolls per frame\n",
        "number_of_frames = 100  # int(sys.argv[1])\n",
        "rolls_per_frame = 6000  # int(sys.argv[2])\n",
        "\n",
        "sns.set_style('whitegrid')  # white background with gray grid lines\n",
        "figure = plt.figure('Rolling a Six-Sided Die')  # Figure for animation\n",
        "values = list(range(1, 7))  # die faces for display on x-axis\n",
        "frequencies = [0] * 6  # six-element list of die frequencies\n",
        "\n",
        "# configure and start animation that calls function update\n",
        "die_animation = animation.FuncAnimation(\n",
        "    figure, update, repeat=False, frames=number_of_frames - 1, interval=33,\n",
        "    fargs=(rolls_per_frame, values, frequencies))\n",
        "\n",
        "plt.show()  # display window"
      ]
    },
    {
      "cell_type": "markdown",
      "metadata": {
        "id": "bJbh4d6l5qsc"
      },
      "source": [
        "## Notes About the Preceding Code for Your Reference\n",
        "### Function `update`\n",
        "`FuncAnimation` calls the `update` function once per animation frame. This function must receive at least one argument. The parameters are:\n",
        "* `frame_number` — The next value from `FuncAnimation`’s `frames` argument, which we’ll discuss momentarily. Though `FuncAnimation` requires the `update` function to have this parameter, we do not use it in this `update` function.\n",
        "* `rolls` — The number of die rolls per animation frame.\n",
        "* `faces` — The die face values used as labels along the graph’s _x_-axis.\n",
        "* `frequencies` — The list in which we summarize the die frequencies."
      ]
    },
    {
      "cell_type": "markdown",
      "metadata": {
        "id": "PNHkUEiY5qsc"
      },
      "source": [
        "### Create a **`FuncAnimation`** to Update the Bar Chart Dynamically\n",
        "* **You _must_ store the reference to the animation**; otherwise, Python immediately terminates the animation and returns its memory to the system."
      ]
    },
    {
      "cell_type": "markdown",
      "metadata": {
        "id": "P0ER5HlD5qsc"
      },
      "source": [
        "### FuncAnimation Has Two Required Arguments\n",
        "* `figure` — the `Figure` object in which to display the animation, and\n",
        "* `update` — the function that's **called once per animation frame**.\n",
        "\n",
        "### Other Arguments\n",
        "* **`repeat`** — False terminates the animation after the specified number of frames. If `True` (the default), when the animation completes it restarts from the beginning.\n",
        "* **`frames`** — The total number of animation frames, which controls how many times `FunctAnimation` calls `update`. Passing an integer is equivalent to passing a `range` — for example, `600` means `range(600)`. `FuncAnimation` passes one value from this range as the first argument in each call to `update`.\n",
        "* **`interval`** — The number of milliseconds (33, in this case) between animation frames (the default is 200). After each call to `update`, `FuncAnimation` waits 33 milliseconds before making the next call.\n",
        "* **`fargs`** (short for “function arguments”) — A tuple of other arguments to pass to the function you specified in `FuncAnimation`’s second argument. The arguments you specify in the `fargs` tuple correspond to `update`’s parameters `rolls`, `faces` and `frequencies`."
      ]
    },
    {
      "cell_type": "markdown",
      "metadata": {
        "id": "1oZCVtTX5qsc"
      },
      "source": [
        "[List of FuncAnimation’s other optional arguments](https://matplotlib.org/api/_as_gen/matplotlib.animation.FuncAnimation.html)"
      ]
    },
    {
      "cell_type": "markdown",
      "metadata": {
        "id": "bIK_R8fq5qsc"
      },
      "source": [
        "# More Info\n",
        "* See Lesson 6 in [**Python Fundamentals LiveLessons** here on O'Reilly Online Learning](https://learning.oreilly.com/videos/python-fundamentals/9780135917411)\n",
        "* See Chapter 6 in [**Python for Programmers** on O'Reilly Online Learning](https://learning.oreilly.com/library/view/python-for-programmers/9780135231364/)\n",
        "* Interested in a print book? Check out:\n",
        "\n",
        "| Python for Programmers | Intro to Python for Computer<br>Science and Data Science\n",
        "| :------ | :------\n",
        "| <a href=\"https://amzn.to/2VvdnxE\"><img alt=\"Python for Programmers cover\" src=\"../images/PyFPCover.png\" width=\"150\" border=\"1\"/></a> | <a href=\"https://amzn.to/2LiDCmt\"><img alt=\"Intro to Python for Computer Science and Data Science: Learning to Program with AI, Big Data and the Cloud\" src=\"../images/IntroToPythonCover.png\" width=\"159\" border=\"1\"></a>\n",
        "\n",
        ">Please **do not** purchase both books&mdash;_Python for Programmers_ is a subset of _Intro to Python for Computer Science and Data Science_"
      ]
    },
    {
      "cell_type": "markdown",
      "metadata": {
        "id": "4TJ6RC8T5qsc"
      },
      "source": [
        "&copy; 2022 by Pearson Education, Inc. All Rights Reserved. The content in this notebook is based on the book [**Python for Programmers**](https://amzn.to/2VvdnxE)."
      ]
    }
  ],
  "metadata": {
    "kernelspec": {
      "display_name": "Python 3 (ipykernel)",
      "language": "python",
      "name": "python3"
    },
    "language_info": {
      "codemirror_mode": {
        "name": "ipython",
        "version": 3
      },
      "file_extension": ".py",
      "mimetype": "text/x-python",
      "name": "python",
      "nbconvert_exporter": "python",
      "pygments_lexer": "ipython3",
      "version": "3.11.7"
    },
    "toc-autonumbering": false,
    "toc-showcode": false,
    "toc-showmarkdowntxt": false,
    "toc-showtags": false,
    "colab": {
      "provenance": [],
      "collapsed_sections": [
        "4CNe0Yvu5qsT"
      ],
      "include_colab_link": true
    }
  },
  "nbformat": 4,
  "nbformat_minor": 0
}
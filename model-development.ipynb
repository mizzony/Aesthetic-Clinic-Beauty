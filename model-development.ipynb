{
    "cells": [
        {
            "cell_type": "markdown",
            "metadata": {},
            "source": "<div class=\"alert alert-block alert-info\" style=\"margin-top: 20px\">\n    <a href=\"https://cocl.us/corsera_da0101en_notebook_top\">\n         <img src=\"https://s3-api.us-geo.objectstorage.softlayer.net/cf-courses-data/CognitiveClass/DA0101EN/Images/TopAd.png\" width=\"750\" align=\"center\">\n    </a>\n</div>\n"
        },
        {
            "cell_type": "markdown",
            "metadata": {},
            "source": "<a href=\"https://www.bigdatauniversity.com\"><img src = \"https://s3-api.us-geo.objectstorage.softlayer.net/cf-courses-data/CognitiveClass/DA0101EN/Images/CCLog.png\" width = 300, align = \"center\"></a>\n\n<h1 align=center><font size=5>Data Analysis with Python</font></h1>"
        },
        {
            "cell_type": "markdown",
            "metadata": {},
            "source": "<h1>Module 4: Model Development</h1>"
        },
        {
            "cell_type": "markdown",
            "metadata": {},
            "source": "<p>In this section, we will develop several models that will predict the price of the car using the variables or features. This is just an estimate but should give us an objective idea of how much the car should cost.</p>"
        },
        {
            "cell_type": "markdown",
            "metadata": {},
            "source": "Some questions we want to ask in this module\n<ul>\n    <li>do I know if the dealer is offering fair value for my trade-in?</li>\n    <li>do I know if I put a fair value on my car?</li>\n</ul>\n<p>Data Analytics, we often use <b>Model Development</b> to help us predict future observations from the data we have.</p>\n\n<p>A Model will help us understand the exact relationship between different variables and how these variables are used to predict the result.</p>"
        },
        {
            "cell_type": "markdown",
            "metadata": {},
            "source": "<h4>Setup</h4>"
        },
        {
            "cell_type": "markdown",
            "metadata": {},
            "source": " Import libraries"
        },
        {
            "cell_type": "code",
            "execution_count": 81,
            "metadata": {
                "jupyter": {
                    "outputs_hidden": false
                }
            },
            "outputs": [],
            "source": "import pandas as pd\nimport numpy as np\nimport matplotlib.pyplot as plt"
        },
        {
            "cell_type": "markdown",
            "metadata": {},
            "source": "load data and store in dataframe df:"
        },
        {
            "cell_type": "markdown",
            "metadata": {},
            "source": "This dataset was hosted on IBM Cloud object click <a href=\"https://cocl.us/DA101EN_object_storage\">HERE</a> for free storage."
        },
        {
            "cell_type": "code",
            "execution_count": 2,
            "metadata": {
                "jupyter": {
                    "outputs_hidden": false
                }
            },
            "outputs": [
                {
                    "data": {
                        "text/html": "<div>\n<style scoped>\n    .dataframe tbody tr th:only-of-type {\n        vertical-align: middle;\n    }\n\n    .dataframe tbody tr th {\n        vertical-align: top;\n    }\n\n    .dataframe thead th {\n        text-align: right;\n    }\n</style>\n<table border=\"1\" class=\"dataframe\">\n  <thead>\n    <tr style=\"text-align: right;\">\n      <th></th>\n      <th>symboling</th>\n      <th>normalized-losses</th>\n      <th>make</th>\n      <th>aspiration</th>\n      <th>num-of-doors</th>\n      <th>body-style</th>\n      <th>drive-wheels</th>\n      <th>engine-location</th>\n      <th>wheel-base</th>\n      <th>length</th>\n      <th>...</th>\n      <th>compression-ratio</th>\n      <th>horsepower</th>\n      <th>peak-rpm</th>\n      <th>city-mpg</th>\n      <th>highway-mpg</th>\n      <th>price</th>\n      <th>city-L/100km</th>\n      <th>horsepower-binned</th>\n      <th>diesel</th>\n      <th>gas</th>\n    </tr>\n  </thead>\n  <tbody>\n    <tr>\n      <th>0</th>\n      <td>3</td>\n      <td>122</td>\n      <td>alfa-romero</td>\n      <td>std</td>\n      <td>two</td>\n      <td>convertible</td>\n      <td>rwd</td>\n      <td>front</td>\n      <td>88.6</td>\n      <td>0.811148</td>\n      <td>...</td>\n      <td>9.0</td>\n      <td>111.0</td>\n      <td>5000.0</td>\n      <td>21</td>\n      <td>27</td>\n      <td>13495.0</td>\n      <td>11.190476</td>\n      <td>Medium</td>\n      <td>0</td>\n      <td>1</td>\n    </tr>\n    <tr>\n      <th>1</th>\n      <td>3</td>\n      <td>122</td>\n      <td>alfa-romero</td>\n      <td>std</td>\n      <td>two</td>\n      <td>convertible</td>\n      <td>rwd</td>\n      <td>front</td>\n      <td>88.6</td>\n      <td>0.811148</td>\n      <td>...</td>\n      <td>9.0</td>\n      <td>111.0</td>\n      <td>5000.0</td>\n      <td>21</td>\n      <td>27</td>\n      <td>16500.0</td>\n      <td>11.190476</td>\n      <td>Medium</td>\n      <td>0</td>\n      <td>1</td>\n    </tr>\n    <tr>\n      <th>2</th>\n      <td>1</td>\n      <td>122</td>\n      <td>alfa-romero</td>\n      <td>std</td>\n      <td>two</td>\n      <td>hatchback</td>\n      <td>rwd</td>\n      <td>front</td>\n      <td>94.5</td>\n      <td>0.822681</td>\n      <td>...</td>\n      <td>9.0</td>\n      <td>154.0</td>\n      <td>5000.0</td>\n      <td>19</td>\n      <td>26</td>\n      <td>16500.0</td>\n      <td>12.368421</td>\n      <td>Medium</td>\n      <td>0</td>\n      <td>1</td>\n    </tr>\n    <tr>\n      <th>3</th>\n      <td>2</td>\n      <td>164</td>\n      <td>audi</td>\n      <td>std</td>\n      <td>four</td>\n      <td>sedan</td>\n      <td>fwd</td>\n      <td>front</td>\n      <td>99.8</td>\n      <td>0.848630</td>\n      <td>...</td>\n      <td>10.0</td>\n      <td>102.0</td>\n      <td>5500.0</td>\n      <td>24</td>\n      <td>30</td>\n      <td>13950.0</td>\n      <td>9.791667</td>\n      <td>Medium</td>\n      <td>0</td>\n      <td>1</td>\n    </tr>\n    <tr>\n      <th>4</th>\n      <td>2</td>\n      <td>164</td>\n      <td>audi</td>\n      <td>std</td>\n      <td>four</td>\n      <td>sedan</td>\n      <td>4wd</td>\n      <td>front</td>\n      <td>99.4</td>\n      <td>0.848630</td>\n      <td>...</td>\n      <td>8.0</td>\n      <td>115.0</td>\n      <td>5500.0</td>\n      <td>18</td>\n      <td>22</td>\n      <td>17450.0</td>\n      <td>13.055556</td>\n      <td>Medium</td>\n      <td>0</td>\n      <td>1</td>\n    </tr>\n  </tbody>\n</table>\n<p>5 rows \u00d7 29 columns</p>\n</div>",
                        "text/plain": "   symboling  normalized-losses         make aspiration num-of-doors  \\\n0          3                122  alfa-romero        std          two   \n1          3                122  alfa-romero        std          two   \n2          1                122  alfa-romero        std          two   \n3          2                164         audi        std         four   \n4          2                164         audi        std         four   \n\n    body-style drive-wheels engine-location  wheel-base    length  ...  \\\n0  convertible          rwd           front        88.6  0.811148  ...   \n1  convertible          rwd           front        88.6  0.811148  ...   \n2    hatchback          rwd           front        94.5  0.822681  ...   \n3        sedan          fwd           front        99.8  0.848630  ...   \n4        sedan          4wd           front        99.4  0.848630  ...   \n\n   compression-ratio  horsepower  peak-rpm city-mpg highway-mpg    price  \\\n0                9.0       111.0    5000.0       21          27  13495.0   \n1                9.0       111.0    5000.0       21          27  16500.0   \n2                9.0       154.0    5000.0       19          26  16500.0   \n3               10.0       102.0    5500.0       24          30  13950.0   \n4                8.0       115.0    5500.0       18          22  17450.0   \n\n  city-L/100km  horsepower-binned  diesel  gas  \n0    11.190476             Medium       0    1  \n1    11.190476             Medium       0    1  \n2    12.368421             Medium       0    1  \n3     9.791667             Medium       0    1  \n4    13.055556             Medium       0    1  \n\n[5 rows x 29 columns]"
                    },
                    "execution_count": 2,
                    "metadata": {},
                    "output_type": "execute_result"
                }
            ],
            "source": "# path of data \npath = 'https://s3-api.us-geo.objectstorage.softlayer.net/cf-courses-data/CognitiveClass/DA0101EN/automobileEDA.csv'\ndf = pd.read_csv(path)\ndf.head()"
        },
        {
            "cell_type": "code",
            "execution_count": 59,
            "metadata": {},
            "outputs": [
                {
                    "data": {
                        "text/html": "<div>\n<style scoped>\n    .dataframe tbody tr th:only-of-type {\n        vertical-align: middle;\n    }\n\n    .dataframe tbody tr th {\n        vertical-align: top;\n    }\n\n    .dataframe thead th {\n        text-align: right;\n    }\n</style>\n<table border=\"1\" class=\"dataframe\">\n  <thead>\n    <tr style=\"text-align: right;\">\n      <th></th>\n      <th>id</th>\n      <th>clinic_name_th</th>\n      <th>clinic_name_en</th>\n      <th>alias</th>\n      <th>xeomin_flag</th>\n      <th>belotero_flag</th>\n      <th>ulthera_flag</th>\n      <th>province</th>\n      <th>district</th>\n      <th>website</th>\n      <th>facebook</th>\n      <th>tel</th>\n      <th>latitude</th>\n      <th>longtitude</th>\n      <th>xeomin</th>\n      <th>x_beauty</th>\n      <th>belotero</th>\n      <th>skin_radiance</th>\n      <th>ulthera</th>\n    </tr>\n  </thead>\n  <tbody>\n    <tr>\n      <th>0</th>\n      <td>1</td>\n      <td>\u0e17\u0e23\u0e35\u0e14\u0e35\u0e40\u0e25\u0e40\u0e0b\u0e2d\u0e23\u0e4c\u0e04\u0e25\u0e34\u0e19\u0e34\u0e01\u0e40\u0e27\u0e0a\u0e01\u0e23\u0e23\u0e21</td>\n      <td>3D Laser clinic</td>\n      <td>\u0e17\u0e23\u0e35\u0e14\u0e35\u0e40\u0e25\u0e40\u0e0b\u0e2d\u0e23\u0e4c\u0e04\u0e25\u0e34\u0e19\u0e34\u0e01\u0e40\u0e27\u0e0a\u0e01\u0e23\u0e23\u0e21</td>\n      <td>N</td>\n      <td>N</td>\n      <td>N</td>\n      <td>\u0e01\u0e32\u0e2c\u0e2a\u0e34\u0e19\u0e18\u0e38\u0e4c</td>\n      <td>\u0e40\u0e21\u0e37\u0e2d\u0e07\u0e01\u0e32\u0e2c\u0e2a\u0e34\u0e19\u0e18\u0e38\u0e4c</td>\n      <td>NaN</td>\n      <td>https://www.facebook.com/3dlaserclinic/</td>\n      <td>090 778 8978</td>\n      <td>16.430403</td>\n      <td>103.501991</td>\n      <td>Y</td>\n      <td>N</td>\n      <td>N</td>\n      <td>N</td>\n      <td>N</td>\n    </tr>\n    <tr>\n      <th>1</th>\n      <td>2</td>\n      <td>\u0e04\u0e25\u0e34\u0e19\u0e34\u0e01\u0e2a\u0e38\u0e02\u0e20\u0e32\u0e1e\u0e41\u0e25\u0e30\u0e04\u0e27\u0e32\u0e21\u0e07\u0e32\u0e21\u0e40\u0e0a\u0e35\u0e22\u0e07\u0e43\u0e2b\u0e21\u0e48</td>\n      <td>4649 Clinic</td>\n      <td>\u0e04\u0e25\u0e34\u0e19\u0e34\u0e01\u0e2a\u0e38\u0e02\u0e20\u0e32\u0e1e\u0e41\u0e25\u0e30\u0e04\u0e27\u0e32\u0e21\u0e07\u0e32\u0e21\u0e40\u0e0a\u0e35\u0e22\u0e07\u0e43\u0e2b\u0e21\u0e48</td>\n      <td>N</td>\n      <td>N</td>\n      <td>N</td>\n      <td>\u0e40\u0e0a\u0e35\u0e22\u0e07\u0e43\u0e2b\u0e21\u0e48</td>\n      <td>\u0e40\u0e21\u0e37\u0e2d\u0e07\u0e40\u0e0a\u0e35\u0e22\u0e07\u0e43\u0e2b\u0e21\u0e48</td>\n      <td>http://www.4649clinic.com/</td>\n      <td>https://www.facebook.com/4649clinic/</td>\n      <td>053 234 657</td>\n      <td>18.793944</td>\n      <td>98.996905</td>\n      <td>Y</td>\n      <td>N</td>\n      <td>N</td>\n      <td>N</td>\n      <td>Y</td>\n    </tr>\n    <tr>\n      <th>2</th>\n      <td>3</td>\n      <td>4B \u0e04\u0e25\u0e34\u0e19\u0e34\u0e01</td>\n      <td>4B clinic</td>\n      <td>4B \u0e04\u0e25\u0e34\u0e19\u0e34\u0e01</td>\n      <td>N</td>\n      <td>N</td>\n      <td>N</td>\n      <td>\u0e01\u0e23\u0e38\u0e07\u0e40\u0e17\u0e1e\u0e21\u0e2b\u0e32\u0e19\u0e04\u0e23</td>\n      <td>\u0e40\u0e02\u0e15\u0e27\u0e31\u0e12\u0e19\u0e32</td>\n      <td>https://www.4bclinic.com/</td>\n      <td>https://www.facebook.com/4bclinic</td>\n      <td>098-193-5956</td>\n      <td>13.731733</td>\n      <td>100.578246</td>\n      <td>Y</td>\n      <td>N</td>\n      <td>N</td>\n      <td>N</td>\n      <td>N</td>\n    </tr>\n    <tr>\n      <th>3</th>\n      <td>4</td>\n      <td>\u0e1f\u0e34\u0e1f\u0e15\u0e35\u0e49\u0e1f\u0e34\u0e1f\u0e17\u0e4c \u0e04\u0e25\u0e34\u0e19\u0e34\u0e01</td>\n      <td>55th  Laser Clinic</td>\n      <td>\u0e1f\u0e34\u0e1f\u0e15\u0e35\u0e49\u0e1f\u0e34\u0e1f\u0e17\u0e4c \u0e04\u0e25\u0e34\u0e19\u0e34\u0e01</td>\n      <td>N</td>\n      <td>N</td>\n      <td>N</td>\n      <td>\u0e01\u0e23\u0e38\u0e07\u0e40\u0e17\u0e1e\u0e21\u0e2b\u0e32\u0e19\u0e04\u0e23</td>\n      <td>\u0e40\u0e02\u0e15\u0e1a\u0e32\u0e07\u0e23\u0e31\u0e01</td>\n      <td>http://www.55laser.com/</td>\n      <td>https://www.facebook.com/55laser</td>\n      <td>02 231 3394</td>\n      <td>13.728047</td>\n      <td>100.534759</td>\n      <td>N</td>\n      <td>N</td>\n      <td>N</td>\n      <td>N</td>\n      <td>Y</td>\n    </tr>\n    <tr>\n      <th>4</th>\n      <td>5</td>\n      <td>\u0e40\u0e2d\u0e1a\u0e35\u0e0b\u0e35 \u0e04\u0e25\u0e34\u0e19\u0e34\u0e01</td>\n      <td>A B C  CLINIC</td>\n      <td>\u0e40\u0e2d\u0e1a\u0e35\u0e0b\u0e35 \u0e04\u0e25\u0e34\u0e19\u0e34\u0e01</td>\n      <td>N</td>\n      <td>N</td>\n      <td>N</td>\n      <td>\u0e2d\u0e38\u0e14\u0e23\u0e18\u0e32\u0e19\u0e35</td>\n      <td>\u0e40\u0e21\u0e37\u0e2d\u0e07\u0e2d\u0e38\u0e14\u0e23\u0e18\u0e32\u0e19\u0e35</td>\n      <td>NaN</td>\n      <td>https://m.facebook.com/abcclinicud/</td>\n      <td>064 794 7152</td>\n      <td>17.408222</td>\n      <td>102.804390</td>\n      <td>N</td>\n      <td>N</td>\n      <td>Y</td>\n      <td>N</td>\n      <td>N</td>\n    </tr>\n  </tbody>\n</table>\n</div>",
                        "text/plain": "   id                   clinic_name_th      clinic_name_en  \\\n0   1        \u0e17\u0e23\u0e35\u0e14\u0e35\u0e40\u0e25\u0e40\u0e0b\u0e2d\u0e23\u0e4c\u0e04\u0e25\u0e34\u0e19\u0e34\u0e01\u0e40\u0e27\u0e0a\u0e01\u0e23\u0e23\u0e21     3D Laser clinic   \n1   2  \u0e04\u0e25\u0e34\u0e19\u0e34\u0e01\u0e2a\u0e38\u0e02\u0e20\u0e32\u0e1e\u0e41\u0e25\u0e30\u0e04\u0e27\u0e32\u0e21\u0e07\u0e32\u0e21\u0e40\u0e0a\u0e35\u0e22\u0e07\u0e43\u0e2b\u0e21\u0e48         4649 Clinic   \n2   3                        4B \u0e04\u0e25\u0e34\u0e19\u0e34\u0e01           4B clinic   \n3   4               \u0e1f\u0e34\u0e1f\u0e15\u0e35\u0e49\u0e1f\u0e34\u0e1f\u0e17\u0e4c \u0e04\u0e25\u0e34\u0e19\u0e34\u0e01  55th  Laser Clinic   \n4   5                    \u0e40\u0e2d\u0e1a\u0e35\u0e0b\u0e35 \u0e04\u0e25\u0e34\u0e19\u0e34\u0e01       A B C  CLINIC   \n\n                             alias xeomin_flag belotero_flag ulthera_flag  \\\n0        \u0e17\u0e23\u0e35\u0e14\u0e35\u0e40\u0e25\u0e40\u0e0b\u0e2d\u0e23\u0e4c\u0e04\u0e25\u0e34\u0e19\u0e34\u0e01\u0e40\u0e27\u0e0a\u0e01\u0e23\u0e23\u0e21           N             N            N   \n1  \u0e04\u0e25\u0e34\u0e19\u0e34\u0e01\u0e2a\u0e38\u0e02\u0e20\u0e32\u0e1e\u0e41\u0e25\u0e30\u0e04\u0e27\u0e32\u0e21\u0e07\u0e32\u0e21\u0e40\u0e0a\u0e35\u0e22\u0e07\u0e43\u0e2b\u0e21\u0e48           N             N            N   \n2                        4B \u0e04\u0e25\u0e34\u0e19\u0e34\u0e01           N             N            N   \n3               \u0e1f\u0e34\u0e1f\u0e15\u0e35\u0e49\u0e1f\u0e34\u0e1f\u0e17\u0e4c \u0e04\u0e25\u0e34\u0e19\u0e34\u0e01           N             N            N   \n4                    \u0e40\u0e2d\u0e1a\u0e35\u0e0b\u0e35 \u0e04\u0e25\u0e34\u0e19\u0e34\u0e01           N             N            N   \n\n        province        district                     website  \\\n0      \u0e01\u0e32\u0e2c\u0e2a\u0e34\u0e19\u0e18\u0e38\u0e4c  \u0e40\u0e21\u0e37\u0e2d\u0e07\u0e01\u0e32\u0e2c\u0e2a\u0e34\u0e19\u0e18\u0e38\u0e4c                         NaN   \n1      \u0e40\u0e0a\u0e35\u0e22\u0e07\u0e43\u0e2b\u0e21\u0e48  \u0e40\u0e21\u0e37\u0e2d\u0e07\u0e40\u0e0a\u0e35\u0e22\u0e07\u0e43\u0e2b\u0e21\u0e48  http://www.4649clinic.com/   \n2  \u0e01\u0e23\u0e38\u0e07\u0e40\u0e17\u0e1e\u0e21\u0e2b\u0e32\u0e19\u0e04\u0e23        \u0e40\u0e02\u0e15\u0e27\u0e31\u0e12\u0e19\u0e32   https://www.4bclinic.com/   \n3  \u0e01\u0e23\u0e38\u0e07\u0e40\u0e17\u0e1e\u0e21\u0e2b\u0e32\u0e19\u0e04\u0e23       \u0e40\u0e02\u0e15\u0e1a\u0e32\u0e07\u0e23\u0e31\u0e01     http://www.55laser.com/   \n4       \u0e2d\u0e38\u0e14\u0e23\u0e18\u0e32\u0e19\u0e35   \u0e40\u0e21\u0e37\u0e2d\u0e07\u0e2d\u0e38\u0e14\u0e23\u0e18\u0e32\u0e19\u0e35                         NaN   \n\n                                  facebook           tel   latitude  \\\n0  https://www.facebook.com/3dlaserclinic/  090 778 8978  16.430403   \n1     https://www.facebook.com/4649clinic/   053 234 657  18.793944   \n2        https://www.facebook.com/4bclinic  098-193-5956  13.731733   \n3         https://www.facebook.com/55laser   02 231 3394  13.728047   \n4      https://m.facebook.com/abcclinicud/  064 794 7152  17.408222   \n\n   longtitude xeomin x_beauty belotero skin_radiance ulthera  \n0  103.501991      Y        N        N             N       N  \n1   98.996905      Y        N        N             N       Y  \n2  100.578246      Y        N        N             N       N  \n3  100.534759      N        N        N             N       Y  \n4  102.804390      N        N        Y             N       N  "
                    },
                    "execution_count": 59,
                    "metadata": {},
                    "output_type": "execute_result"
                }
            ],
            "source": "#read merz aesthetic file\npath = 'https://raw.githubusercontent.com/mizzony/Aesthetic-Clinic-Beauty/master/Merz_certifiedclinic.csv'\ndf = pd.read_csv(path)\ndf.head()"
        },
        {
            "cell_type": "code",
            "execution_count": 60,
            "metadata": {},
            "outputs": [
                {
                    "name": "stdout",
                    "output_type": "stream",
                    "text": "<class 'pandas.core.frame.DataFrame'>\nRangeIndex: 800 entries, 0 to 799\nData columns (total 19 columns):\nid                800 non-null int64\nclinic_name_th    800 non-null object\nclinic_name_en    800 non-null object\nalias             800 non-null object\nxeomin_flag       800 non-null object\nbelotero_flag     800 non-null object\nulthera_flag      800 non-null object\nprovince          800 non-null object\ndistrict          793 non-null object\nwebsite           521 non-null object\nfacebook          758 non-null object\ntel               793 non-null object\nlatitude          795 non-null float64\nlongtitude        795 non-null float64\nxeomin            800 non-null object\nx_beauty          800 non-null object\nbelotero          800 non-null object\nskin_radiance     800 non-null object\nulthera           800 non-null object\ndtypes: float64(2), int64(1), object(16)\nmemory usage: 118.8+ KB\n"
                }
            ],
            "source": "df.info()"
        },
        {
            "cell_type": "code",
            "execution_count": 61,
            "metadata": {},
            "outputs": [
                {
                    "data": {
                        "text/html": "<div>\n<style scoped>\n    .dataframe tbody tr th:only-of-type {\n        vertical-align: middle;\n    }\n\n    .dataframe tbody tr th {\n        vertical-align: top;\n    }\n\n    .dataframe thead th {\n        text-align: right;\n    }\n</style>\n<table border=\"1\" class=\"dataframe\">\n  <thead>\n    <tr style=\"text-align: right;\">\n      <th></th>\n      <th>id</th>\n      <th>latitude</th>\n      <th>longtitude</th>\n    </tr>\n  </thead>\n  <tbody>\n    <tr>\n      <th>count</th>\n      <td>800.000000</td>\n      <td>795.000000</td>\n      <td>795.000000</td>\n    </tr>\n    <tr>\n      <th>mean</th>\n      <td>438.113750</td>\n      <td>13.895017</td>\n      <td>100.640962</td>\n    </tr>\n    <tr>\n      <th>std</th>\n      <td>257.052506</td>\n      <td>1.934404</td>\n      <td>0.901321</td>\n    </tr>\n    <tr>\n      <th>min</th>\n      <td>1.000000</td>\n      <td>6.020134</td>\n      <td>98.298611</td>\n    </tr>\n    <tr>\n      <th>25%</th>\n      <td>214.500000</td>\n      <td>13.715064</td>\n      <td>100.488531</td>\n    </tr>\n    <tr>\n      <th>50%</th>\n      <td>437.500000</td>\n      <td>13.758152</td>\n      <td>100.562133</td>\n    </tr>\n    <tr>\n      <th>75%</th>\n      <td>657.250000</td>\n      <td>13.855212</td>\n      <td>100.629542</td>\n    </tr>\n    <tr>\n      <th>max</th>\n      <td>938.000000</td>\n      <td>20.415654</td>\n      <td>104.865391</td>\n    </tr>\n  </tbody>\n</table>\n</div>",
                        "text/plain": "               id    latitude  longtitude\ncount  800.000000  795.000000  795.000000\nmean   438.113750   13.895017  100.640962\nstd    257.052506    1.934404    0.901321\nmin      1.000000    6.020134   98.298611\n25%    214.500000   13.715064  100.488531\n50%    437.500000   13.758152  100.562133\n75%    657.250000   13.855212  100.629542\nmax    938.000000   20.415654  104.865391"
                    },
                    "execution_count": 61,
                    "metadata": {},
                    "output_type": "execute_result"
                }
            ],
            "source": "df.describe()"
        },
        {
            "cell_type": "code",
            "execution_count": 62,
            "metadata": {},
            "outputs": [
                {
                    "data": {
                        "text/html": "<div>\n<style scoped>\n    .dataframe tbody tr th:only-of-type {\n        vertical-align: middle;\n    }\n\n    .dataframe tbody tr th {\n        vertical-align: top;\n    }\n\n    .dataframe thead th {\n        text-align: right;\n    }\n</style>\n<table border=\"1\" class=\"dataframe\">\n  <thead>\n    <tr style=\"text-align: right;\">\n      <th></th>\n      <th>id</th>\n      <th>clinic_name_th</th>\n      <th>alias</th>\n      <th>xeomin_flag</th>\n      <th>belotero_flag</th>\n      <th>ulthera_flag</th>\n      <th>province</th>\n      <th>district</th>\n      <th>website</th>\n      <th>facebook</th>\n      <th>tel</th>\n      <th>latitude</th>\n      <th>longtitude</th>\n      <th>xeomin</th>\n      <th>x_beauty</th>\n      <th>belotero</th>\n      <th>skin_radiance</th>\n      <th>ulthera</th>\n    </tr>\n    <tr>\n      <th>clinic_name_en</th>\n      <th></th>\n      <th></th>\n      <th></th>\n      <th></th>\n      <th></th>\n      <th></th>\n      <th></th>\n      <th></th>\n      <th></th>\n      <th></th>\n      <th></th>\n      <th></th>\n      <th></th>\n      <th></th>\n      <th></th>\n      <th></th>\n      <th></th>\n      <th></th>\n    </tr>\n  </thead>\n  <tbody>\n    <tr>\n      <th>3D Laser clinic</th>\n      <td>1</td>\n      <td>\u0e17\u0e23\u0e35\u0e14\u0e35\u0e40\u0e25\u0e40\u0e0b\u0e2d\u0e23\u0e4c\u0e04\u0e25\u0e34\u0e19\u0e34\u0e01\u0e40\u0e27\u0e0a\u0e01\u0e23\u0e23\u0e21</td>\n      <td>\u0e17\u0e23\u0e35\u0e14\u0e35\u0e40\u0e25\u0e40\u0e0b\u0e2d\u0e23\u0e4c\u0e04\u0e25\u0e34\u0e19\u0e34\u0e01\u0e40\u0e27\u0e0a\u0e01\u0e23\u0e23\u0e21</td>\n      <td>N</td>\n      <td>N</td>\n      <td>N</td>\n      <td>\u0e01\u0e32\u0e2c\u0e2a\u0e34\u0e19\u0e18\u0e38\u0e4c</td>\n      <td>\u0e40\u0e21\u0e37\u0e2d\u0e07\u0e01\u0e32\u0e2c\u0e2a\u0e34\u0e19\u0e18\u0e38\u0e4c</td>\n      <td>NaN</td>\n      <td>https://www.facebook.com/3dlaserclinic/</td>\n      <td>090 778 8978</td>\n      <td>16.430403</td>\n      <td>103.501991</td>\n      <td>Y</td>\n      <td>N</td>\n      <td>N</td>\n      <td>N</td>\n      <td>N</td>\n    </tr>\n    <tr>\n      <th>4649 Clinic</th>\n      <td>2</td>\n      <td>\u0e04\u0e25\u0e34\u0e19\u0e34\u0e01\u0e2a\u0e38\u0e02\u0e20\u0e32\u0e1e\u0e41\u0e25\u0e30\u0e04\u0e27\u0e32\u0e21\u0e07\u0e32\u0e21\u0e40\u0e0a\u0e35\u0e22\u0e07\u0e43\u0e2b\u0e21\u0e48</td>\n      <td>\u0e04\u0e25\u0e34\u0e19\u0e34\u0e01\u0e2a\u0e38\u0e02\u0e20\u0e32\u0e1e\u0e41\u0e25\u0e30\u0e04\u0e27\u0e32\u0e21\u0e07\u0e32\u0e21\u0e40\u0e0a\u0e35\u0e22\u0e07\u0e43\u0e2b\u0e21\u0e48</td>\n      <td>N</td>\n      <td>N</td>\n      <td>N</td>\n      <td>\u0e40\u0e0a\u0e35\u0e22\u0e07\u0e43\u0e2b\u0e21\u0e48</td>\n      <td>\u0e40\u0e21\u0e37\u0e2d\u0e07\u0e40\u0e0a\u0e35\u0e22\u0e07\u0e43\u0e2b\u0e21\u0e48</td>\n      <td>http://www.4649clinic.com/</td>\n      <td>https://www.facebook.com/4649clinic/</td>\n      <td>053 234 657</td>\n      <td>18.793944</td>\n      <td>98.996905</td>\n      <td>Y</td>\n      <td>N</td>\n      <td>N</td>\n      <td>N</td>\n      <td>Y</td>\n    </tr>\n    <tr>\n      <th>4B clinic</th>\n      <td>3</td>\n      <td>4B \u0e04\u0e25\u0e34\u0e19\u0e34\u0e01</td>\n      <td>4B \u0e04\u0e25\u0e34\u0e19\u0e34\u0e01</td>\n      <td>N</td>\n      <td>N</td>\n      <td>N</td>\n      <td>\u0e01\u0e23\u0e38\u0e07\u0e40\u0e17\u0e1e\u0e21\u0e2b\u0e32\u0e19\u0e04\u0e23</td>\n      <td>\u0e40\u0e02\u0e15\u0e27\u0e31\u0e12\u0e19\u0e32</td>\n      <td>https://www.4bclinic.com/</td>\n      <td>https://www.facebook.com/4bclinic</td>\n      <td>098-193-5956</td>\n      <td>13.731733</td>\n      <td>100.578246</td>\n      <td>Y</td>\n      <td>N</td>\n      <td>N</td>\n      <td>N</td>\n      <td>N</td>\n    </tr>\n    <tr>\n      <th>55th  Laser Clinic</th>\n      <td>4</td>\n      <td>\u0e1f\u0e34\u0e1f\u0e15\u0e35\u0e49\u0e1f\u0e34\u0e1f\u0e17\u0e4c \u0e04\u0e25\u0e34\u0e19\u0e34\u0e01</td>\n      <td>\u0e1f\u0e34\u0e1f\u0e15\u0e35\u0e49\u0e1f\u0e34\u0e1f\u0e17\u0e4c \u0e04\u0e25\u0e34\u0e19\u0e34\u0e01</td>\n      <td>N</td>\n      <td>N</td>\n      <td>N</td>\n      <td>\u0e01\u0e23\u0e38\u0e07\u0e40\u0e17\u0e1e\u0e21\u0e2b\u0e32\u0e19\u0e04\u0e23</td>\n      <td>\u0e40\u0e02\u0e15\u0e1a\u0e32\u0e07\u0e23\u0e31\u0e01</td>\n      <td>http://www.55laser.com/</td>\n      <td>https://www.facebook.com/55laser</td>\n      <td>02 231 3394</td>\n      <td>13.728047</td>\n      <td>100.534759</td>\n      <td>N</td>\n      <td>N</td>\n      <td>N</td>\n      <td>N</td>\n      <td>Y</td>\n    </tr>\n    <tr>\n      <th>A B C  CLINIC</th>\n      <td>5</td>\n      <td>\u0e40\u0e2d\u0e1a\u0e35\u0e0b\u0e35 \u0e04\u0e25\u0e34\u0e19\u0e34\u0e01</td>\n      <td>\u0e40\u0e2d\u0e1a\u0e35\u0e0b\u0e35 \u0e04\u0e25\u0e34\u0e19\u0e34\u0e01</td>\n      <td>N</td>\n      <td>N</td>\n      <td>N</td>\n      <td>\u0e2d\u0e38\u0e14\u0e23\u0e18\u0e32\u0e19\u0e35</td>\n      <td>\u0e40\u0e21\u0e37\u0e2d\u0e07\u0e2d\u0e38\u0e14\u0e23\u0e18\u0e32\u0e19\u0e35</td>\n      <td>NaN</td>\n      <td>https://m.facebook.com/abcclinicud/</td>\n      <td>064 794 7152</td>\n      <td>17.408222</td>\n      <td>102.804390</td>\n      <td>N</td>\n      <td>N</td>\n      <td>Y</td>\n      <td>N</td>\n      <td>N</td>\n    </tr>\n  </tbody>\n</table>\n</div>",
                        "text/plain": "                    id                   clinic_name_th  \\\nclinic_name_en                                            \n3D Laser clinic      1        \u0e17\u0e23\u0e35\u0e14\u0e35\u0e40\u0e25\u0e40\u0e0b\u0e2d\u0e23\u0e4c\u0e04\u0e25\u0e34\u0e19\u0e34\u0e01\u0e40\u0e27\u0e0a\u0e01\u0e23\u0e23\u0e21   \n4649 Clinic          2  \u0e04\u0e25\u0e34\u0e19\u0e34\u0e01\u0e2a\u0e38\u0e02\u0e20\u0e32\u0e1e\u0e41\u0e25\u0e30\u0e04\u0e27\u0e32\u0e21\u0e07\u0e32\u0e21\u0e40\u0e0a\u0e35\u0e22\u0e07\u0e43\u0e2b\u0e21\u0e48   \n4B clinic            3                        4B \u0e04\u0e25\u0e34\u0e19\u0e34\u0e01   \n55th  Laser Clinic   4               \u0e1f\u0e34\u0e1f\u0e15\u0e35\u0e49\u0e1f\u0e34\u0e1f\u0e17\u0e4c \u0e04\u0e25\u0e34\u0e19\u0e34\u0e01   \nA B C  CLINIC        5                    \u0e40\u0e2d\u0e1a\u0e35\u0e0b\u0e35 \u0e04\u0e25\u0e34\u0e19\u0e34\u0e01   \n\n                                              alias xeomin_flag belotero_flag  \\\nclinic_name_en                                                                  \n3D Laser clinic           \u0e17\u0e23\u0e35\u0e14\u0e35\u0e40\u0e25\u0e40\u0e0b\u0e2d\u0e23\u0e4c\u0e04\u0e25\u0e34\u0e19\u0e34\u0e01\u0e40\u0e27\u0e0a\u0e01\u0e23\u0e23\u0e21           N             N   \n4649 Clinic         \u0e04\u0e25\u0e34\u0e19\u0e34\u0e01\u0e2a\u0e38\u0e02\u0e20\u0e32\u0e1e\u0e41\u0e25\u0e30\u0e04\u0e27\u0e32\u0e21\u0e07\u0e32\u0e21\u0e40\u0e0a\u0e35\u0e22\u0e07\u0e43\u0e2b\u0e21\u0e48           N             N   \n4B clinic                                 4B \u0e04\u0e25\u0e34\u0e19\u0e34\u0e01           N             N   \n55th  Laser Clinic               \u0e1f\u0e34\u0e1f\u0e15\u0e35\u0e49\u0e1f\u0e34\u0e1f\u0e17\u0e4c \u0e04\u0e25\u0e34\u0e19\u0e34\u0e01           N             N   \nA B C  CLINIC                         \u0e40\u0e2d\u0e1a\u0e35\u0e0b\u0e35 \u0e04\u0e25\u0e34\u0e19\u0e34\u0e01           N             N   \n\n                   ulthera_flag       province        district  \\\nclinic_name_en                                                   \n3D Laser clinic               N      \u0e01\u0e32\u0e2c\u0e2a\u0e34\u0e19\u0e18\u0e38\u0e4c  \u0e40\u0e21\u0e37\u0e2d\u0e07\u0e01\u0e32\u0e2c\u0e2a\u0e34\u0e19\u0e18\u0e38\u0e4c   \n4649 Clinic                   N      \u0e40\u0e0a\u0e35\u0e22\u0e07\u0e43\u0e2b\u0e21\u0e48  \u0e40\u0e21\u0e37\u0e2d\u0e07\u0e40\u0e0a\u0e35\u0e22\u0e07\u0e43\u0e2b\u0e21\u0e48   \n4B clinic                     N  \u0e01\u0e23\u0e38\u0e07\u0e40\u0e17\u0e1e\u0e21\u0e2b\u0e32\u0e19\u0e04\u0e23        \u0e40\u0e02\u0e15\u0e27\u0e31\u0e12\u0e19\u0e32   \n55th  Laser Clinic            N  \u0e01\u0e23\u0e38\u0e07\u0e40\u0e17\u0e1e\u0e21\u0e2b\u0e32\u0e19\u0e04\u0e23       \u0e40\u0e02\u0e15\u0e1a\u0e32\u0e07\u0e23\u0e31\u0e01   \nA B C  CLINIC                 N       \u0e2d\u0e38\u0e14\u0e23\u0e18\u0e32\u0e19\u0e35   \u0e40\u0e21\u0e37\u0e2d\u0e07\u0e2d\u0e38\u0e14\u0e23\u0e18\u0e32\u0e19\u0e35   \n\n                                       website  \\\nclinic_name_en                                   \n3D Laser clinic                            NaN   \n4649 Clinic         http://www.4649clinic.com/   \n4B clinic            https://www.4bclinic.com/   \n55th  Laser Clinic     http://www.55laser.com/   \nA B C  CLINIC                              NaN   \n\n                                                   facebook           tel  \\\nclinic_name_en                                                              \n3D Laser clinic     https://www.facebook.com/3dlaserclinic/  090 778 8978   \n4649 Clinic            https://www.facebook.com/4649clinic/   053 234 657   \n4B clinic                 https://www.facebook.com/4bclinic  098-193-5956   \n55th  Laser Clinic         https://www.facebook.com/55laser   02 231 3394   \nA B C  CLINIC           https://m.facebook.com/abcclinicud/  064 794 7152   \n\n                     latitude  longtitude xeomin x_beauty belotero  \\\nclinic_name_en                                                       \n3D Laser clinic     16.430403  103.501991      Y        N        N   \n4649 Clinic         18.793944   98.996905      Y        N        N   \n4B clinic           13.731733  100.578246      Y        N        N   \n55th  Laser Clinic  13.728047  100.534759      N        N        N   \nA B C  CLINIC       17.408222  102.804390      N        N        Y   \n\n                   skin_radiance ulthera  \nclinic_name_en                            \n3D Laser clinic                N       N  \n4649 Clinic                    N       Y  \n4B clinic                      N       N  \n55th  Laser Clinic             N       Y  \nA B C  CLINIC                  N       N  "
                    },
                    "execution_count": 62,
                    "metadata": {},
                    "output_type": "execute_result"
                }
            ],
            "source": "df.set_index('clinic_name_en', inplace=True)\ndf.head()"
        },
        {
            "cell_type": "code",
            "execution_count": 63,
            "metadata": {
                "scrolled": true
            },
            "outputs": [
                {
                    "data": {
                        "text/plain": "Y    419\nN    381\nName: ulthera, dtype: int64"
                    },
                    "execution_count": 63,
                    "metadata": {},
                    "output_type": "execute_result"
                }
            ],
            "source": "#count value\ncountxeo = df.xeomin.value_counts()\ncountxeo\n\ncountx_beauty = df.x_beauty.value_counts()\ncountx_beauty \n\ncountbelotero = df.belotero.value_counts()\ncountbelotero\n\ncountskin_radiance = df.skin_radiance.value_counts()\ncountskin_radiance\n\ncountulthera = df.ulthera.value_counts()\ncountulthera\n"
        },
        {
            "cell_type": "code",
            "execution_count": 64,
            "metadata": {},
            "outputs": [],
            "source": "count_y = [['xeo', 424 , 424/800], ['belo', 519 ,519/800], ['skin_radiance', 154, 154/800],['ulthera', 419, 419/800], ['x_beauty', 179, 179/800]] "
        },
        {
            "cell_type": "code",
            "execution_count": 65,
            "metadata": {},
            "outputs": [
                {
                    "data": {
                        "text/html": "<div>\n<style scoped>\n    .dataframe tbody tr th:only-of-type {\n        vertical-align: middle;\n    }\n\n    .dataframe tbody tr th {\n        vertical-align: top;\n    }\n\n    .dataframe thead th {\n        text-align: right;\n    }\n</style>\n<table border=\"1\" class=\"dataframe\">\n  <thead>\n    <tr style=\"text-align: right;\">\n      <th></th>\n      <th>Name</th>\n      <th>Yes</th>\n      <th>Percentage</th>\n    </tr>\n  </thead>\n  <tbody>\n    <tr>\n      <th>0</th>\n      <td>xeo</td>\n      <td>424</td>\n      <td>0.53000</td>\n    </tr>\n    <tr>\n      <th>1</th>\n      <td>belo</td>\n      <td>519</td>\n      <td>0.64875</td>\n    </tr>\n    <tr>\n      <th>2</th>\n      <td>skin_radiance</td>\n      <td>154</td>\n      <td>0.19250</td>\n    </tr>\n    <tr>\n      <th>3</th>\n      <td>ulthera</td>\n      <td>419</td>\n      <td>0.52375</td>\n    </tr>\n    <tr>\n      <th>4</th>\n      <td>x_beauty</td>\n      <td>179</td>\n      <td>0.22375</td>\n    </tr>\n  </tbody>\n</table>\n</div>",
                        "text/plain": "            Name  Yes  Percentage\n0            xeo  424     0.53000\n1           belo  519     0.64875\n2  skin_radiance  154     0.19250\n3        ulthera  419     0.52375\n4       x_beauty  179     0.22375"
                    },
                    "execution_count": 65,
                    "metadata": {},
                    "output_type": "execute_result"
                }
            ],
            "source": "# Create the pandas DataFrame \ndf_count = pd.DataFrame(count_y, columns = ['Name', 'Yes','Percentage'])\ndf_count"
        },
        {
            "cell_type": "code",
            "execution_count": 68,
            "metadata": {},
            "outputs": [
                {
                    "data": {
                        "text/html": "<div>\n<style scoped>\n    .dataframe tbody tr th:only-of-type {\n        vertical-align: middle;\n    }\n\n    .dataframe tbody tr th {\n        vertical-align: top;\n    }\n\n    .dataframe thead th {\n        text-align: right;\n    }\n</style>\n<table border=\"1\" class=\"dataframe\">\n  <thead>\n    <tr style=\"text-align: right;\">\n      <th></th>\n      <th>Name</th>\n      <th>Yes</th>\n      <th>Percentage</th>\n    </tr>\n  </thead>\n  <tbody>\n    <tr>\n      <th>1</th>\n      <td>belo</td>\n      <td>519</td>\n      <td>0.64875</td>\n    </tr>\n    <tr>\n      <th>0</th>\n      <td>xeo</td>\n      <td>424</td>\n      <td>0.53000</td>\n    </tr>\n    <tr>\n      <th>3</th>\n      <td>ulthera</td>\n      <td>419</td>\n      <td>0.52375</td>\n    </tr>\n    <tr>\n      <th>4</th>\n      <td>x_beauty</td>\n      <td>179</td>\n      <td>0.22375</td>\n    </tr>\n    <tr>\n      <th>2</th>\n      <td>skin_radiance</td>\n      <td>154</td>\n      <td>0.19250</td>\n    </tr>\n  </tbody>\n</table>\n</div>",
                        "text/plain": "            Name  Yes  Percentage\n1           belo  519     0.64875\n0            xeo  424     0.53000\n3        ulthera  419     0.52375\n4       x_beauty  179     0.22375\n2  skin_radiance  154     0.19250"
                    },
                    "execution_count": 68,
                    "metadata": {},
                    "output_type": "execute_result"
                }
            ],
            "source": "df_count.sort_values(['Percentage'], ascending=False, axis=0, inplace=True)\ndf_count"
        },
        {
            "cell_type": "code",
            "execution_count": 74,
            "metadata": {},
            "outputs": [
                {
                    "data": {
                        "text/html": "<div>\n<style scoped>\n    .dataframe tbody tr th:only-of-type {\n        vertical-align: middle;\n    }\n\n    .dataframe tbody tr th {\n        vertical-align: top;\n    }\n\n    .dataframe thead th {\n        text-align: right;\n    }\n</style>\n<table border=\"1\" class=\"dataframe\">\n  <thead>\n    <tr style=\"text-align: right;\">\n      <th></th>\n      <th>Yes</th>\n      <th>Percentage</th>\n    </tr>\n  </thead>\n  <tbody>\n    <tr>\n      <th>count</th>\n      <td>5.000000</td>\n      <td>5.000000</td>\n    </tr>\n    <tr>\n      <th>mean</th>\n      <td>339.000000</td>\n      <td>0.423750</td>\n    </tr>\n    <tr>\n      <th>std</th>\n      <td>162.672985</td>\n      <td>0.203341</td>\n    </tr>\n    <tr>\n      <th>min</th>\n      <td>154.000000</td>\n      <td>0.192500</td>\n    </tr>\n    <tr>\n      <th>25%</th>\n      <td>179.000000</td>\n      <td>0.223750</td>\n    </tr>\n    <tr>\n      <th>50%</th>\n      <td>419.000000</td>\n      <td>0.523750</td>\n    </tr>\n    <tr>\n      <th>75%</th>\n      <td>424.000000</td>\n      <td>0.530000</td>\n    </tr>\n    <tr>\n      <th>max</th>\n      <td>519.000000</td>\n      <td>0.648750</td>\n    </tr>\n  </tbody>\n</table>\n</div>",
                        "text/plain": "              Yes  Percentage\ncount    5.000000    5.000000\nmean   339.000000    0.423750\nstd    162.672985    0.203341\nmin    154.000000    0.192500\n25%    179.000000    0.223750\n50%    419.000000    0.523750\n75%    424.000000    0.530000\nmax    519.000000    0.648750"
                    },
                    "execution_count": 74,
                    "metadata": {},
                    "output_type": "execute_result"
                }
            ],
            "source": "df_count.describe()"
        },
        {
            "cell_type": "code",
            "execution_count": 91,
            "metadata": {},
            "outputs": [
                {
                    "data": {
                        "image/png": "[encoded data removed]",
                        "text/plain": "<Figure size 1440x576 with 1 Axes>"
                    },
                    "metadata": {
                        "needs_background": "light"
                    },
                    "output_type": "display_data"
                }
            ],
            "source": "ax1 = df_count.plot(kind = 'bar',\n                figsize = (20,8),\n                width = 0.8,\n                color = ('#5cb85c', '#5bc0de', '#d9534f'),\n                fontsize = 14)\n\nax1.set_title(\"Counts of Product availability across Clinic in Thailand\", fontsize = 16)\nax1.legend(fontsize = 14)\nax1.spines['top'].set_visible(False)\nax1.spines['right'].set_visible(False)\nax1.spines['left'].set_visible(False)\n\n#Adding the percentage values    \n# for p in ax1.patches:\n#     ax1.annotate(\"{:1%}\".format(p.get_height()),\n#                 xy=(p.get_x()+0.02, p.get_height()+0.01))"
        },
        {
            "cell_type": "markdown",
            "metadata": {},
            "source": "<h3>1. Linear Regression and Multiple Linear Regression</h3>"
        },
        {
            "cell_type": "markdown",
            "metadata": {},
            "source": "<h4>Linear Regression</h4>"
        },
        {
            "cell_type": "markdown",
            "metadata": {},
            "source": "\n<p>One example of a Data  Model that we will be using is</p>\n<b>Simple Linear Regression</b>.\n\n<br>\n<p>Simple Linear Regression is a method to help us understand the relationship between two variables:</p>\n<ul>\n    <li>The predictor/independent variable (X)</li>\n    <li>The response/dependent variable (that we want to predict)(Y)</li>\n</ul>\n\n<p>The result of Linear Regression is a <b>linear function</b> that predicts the response (dependent) variable as a function of the predictor (independent) variable.</p>\n\n"
        },
        {
            "cell_type": "markdown",
            "metadata": {},
            "source": "$$\n Y: Response \\ Variable\\\\\n X: Predictor \\ Variables\n$$\n"
        },
        {
            "cell_type": "markdown",
            "metadata": {},
            "source": " <b>Linear function:</b>\n$$\nYhat = a + b  X\n$$"
        },
        {
            "cell_type": "markdown",
            "metadata": {},
            "source": "<ul>\n    <li>a refers to the <b>intercept</b> of the regression line0, in other words: the value of Y when X is 0</li>\n    <li>b refers to the <b>slope</b> of the regression line, in other words: the value with which Y changes when X increases by 1 unit</li>\n</ul>"
        },
        {
            "cell_type": "markdown",
            "metadata": {},
            "source": "<h4>Lets load the modules for linear regression</h4>"
        },
        {
            "cell_type": "code",
            "execution_count": 3,
            "metadata": {
                "jupyter": {
                    "outputs_hidden": false
                }
            },
            "outputs": [],
            "source": "from sklearn.linear_model import LinearRegression"
        },
        {
            "cell_type": "markdown",
            "metadata": {},
            "source": "<h4>Create the linear regression object</h4>"
        },
        {
            "cell_type": "code",
            "execution_count": 4,
            "metadata": {
                "jupyter": {
                    "outputs_hidden": false
                }
            },
            "outputs": [
                {
                    "data": {
                        "text/plain": "LinearRegression(copy_X=True, fit_intercept=True, n_jobs=None,\n         normalize=False)"
                    },
                    "execution_count": 4,
                    "metadata": {},
                    "output_type": "execute_result"
                }
            ],
            "source": "lm = LinearRegression()\nlm"
        },
        {
            "cell_type": "markdown",
            "metadata": {},
            "source": "<h4>How could Highway-mpg help us predict car price?</h4>"
        },
        {
            "cell_type": "markdown",
            "metadata": {},
            "source": "For this example, we want to look at how highway-mpg can help us predict car price.\nUsing simple linear regression, we will create a linear function with \"highway-mpg\" as the predictor variable and the \"price\" as the response variable."
        },
        {
            "cell_type": "code",
            "execution_count": 5,
            "metadata": {
                "jupyter": {
                    "outputs_hidden": false
                }
            },
            "outputs": [],
            "source": "X = df[['highway-mpg']]\nY = df['price']"
        },
        {
            "cell_type": "markdown",
            "metadata": {},
            "source": "Fit the linear model using highway-mpg."
        },
        {
            "cell_type": "code",
            "execution_count": 6,
            "metadata": {
                "jupyter": {
                    "outputs_hidden": false
                }
            },
            "outputs": [
                {
                    "data": {
                        "text/plain": "LinearRegression(copy_X=True, fit_intercept=True, n_jobs=None,\n         normalize=False)"
                    },
                    "execution_count": 6,
                    "metadata": {},
                    "output_type": "execute_result"
                }
            ],
            "source": "lm.fit(X,Y)"
        },
        {
            "cell_type": "markdown",
            "metadata": {},
            "source": " We can output a prediction "
        },
        {
            "cell_type": "code",
            "execution_count": 7,
            "metadata": {
                "jupyter": {
                    "outputs_hidden": false
                }
            },
            "outputs": [
                {
                    "data": {
                        "text/plain": "array([16236.50464347, 16236.50464347, 17058.23802179, 13771.3045085 ,\n       20345.17153508])"
                    },
                    "execution_count": 7,
                    "metadata": {},
                    "output_type": "execute_result"
                }
            ],
            "source": "Yhat=lm.predict(X)\nYhat[0:5]   "
        },
        {
            "cell_type": "markdown",
            "metadata": {},
            "source": "<h4>What is the value of the intercept (a)?</h4>"
        },
        {
            "cell_type": "code",
            "execution_count": 8,
            "metadata": {
                "jupyter": {
                    "outputs_hidden": false
                }
            },
            "outputs": [
                {
                    "data": {
                        "text/plain": "38423.3058581574"
                    },
                    "execution_count": 8,
                    "metadata": {},
                    "output_type": "execute_result"
                }
            ],
            "source": "lm.intercept_"
        },
        {
            "cell_type": "markdown",
            "metadata": {},
            "source": "<h4>What is the value of the Slope (b)?</h4>"
        },
        {
            "cell_type": "code",
            "execution_count": 9,
            "metadata": {
                "jupyter": {
                    "outputs_hidden": false
                },
                "scrolled": true
            },
            "outputs": [
                {
                    "data": {
                        "text/plain": "array([-821.73337832])"
                    },
                    "execution_count": 9,
                    "metadata": {},
                    "output_type": "execute_result"
                }
            ],
            "source": "lm.coef_"
        },
        {
            "cell_type": "markdown",
            "metadata": {},
            "source": "<h3>What is the final estimated linear model we get?</h3>"
        },
        {
            "cell_type": "markdown",
            "metadata": {},
            "source": "As we saw above, we should get a final linear model with the structure:"
        },
        {
            "cell_type": "markdown",
            "metadata": {},
            "source": "$$\nYhat = a + b  X\n$$"
        },
        {
            "cell_type": "markdown",
            "metadata": {},
            "source": "Plugging in the actual values we get:"
        },
        {
            "cell_type": "markdown",
            "metadata": {},
            "source": "<b>price</b> = 38423.31 - 821.73 x  <b>highway-mpg</b>"
        },
        {
            "cell_type": "markdown",
            "metadata": {},
            "source": "<div class=\"alert alert-danger alertdanger\" style=\"margin-top: 20px\">\n<h1>Question #1 a): </h1>\n\n<b>Create a linear regression object?</b>\n</div>"
        },
        {
            "cell_type": "code",
            "execution_count": 10,
            "metadata": {
                "jupyter": {
                    "outputs_hidden": false
                }
            },
            "outputs": [
                {
                    "data": {
                        "text/plain": "LinearRegression(copy_X=True, fit_intercept=True, n_jobs=None,\n         normalize=False)"
                    },
                    "execution_count": 10,
                    "metadata": {},
                    "output_type": "execute_result"
                }
            ],
            "source": "# Write your code below and press Shift+Enter to execute \nlm1 = LinearRegression()\nlm1 "
        },
        {
            "cell_type": "markdown",
            "metadata": {},
            "source": "Double-click <b>here</b> for the solution.\n\n<!-- The answer is below:\n\nlm1 = LinearRegression()\nlm1 \n\n-->"
        },
        {
            "cell_type": "markdown",
            "metadata": {},
            "source": "<div class=\"alert alert-danger alertdanger\" style=\"margin-top: 20px\">\n<h1> Question #1 b): </h1>\n\n<b>Train the model using 'engine-size' as the independent variable and 'price' as the dependent variable?</b>\n</div>"
        },
        {
            "cell_type": "code",
            "execution_count": 11,
            "metadata": {
                "jupyter": {
                    "outputs_hidden": false
                }
            },
            "outputs": [
                {
                    "data": {
                        "text/plain": "LinearRegression(copy_X=True, fit_intercept=True, n_jobs=None,\n         normalize=False)"
                    },
                    "execution_count": 11,
                    "metadata": {},
                    "output_type": "execute_result"
                }
            ],
            "source": "# Write your code below and press Shift+Enter to execute \nlm1.fit(df[['highway-mpg']], df[['price']])\nlm1\n"
        },
        {
            "cell_type": "markdown",
            "metadata": {},
            "source": "Double-click <b>here</b> for the solution.\n\n<!-- The answer is below:\n\nlm1.fit(df[['highway-mpg']], df[['price']])\nlm1\n\n-->\n"
        },
        {
            "cell_type": "markdown",
            "metadata": {},
            "source": "<div class=\"alert alert-danger alertdanger\" style=\"margin-top: 20px\">\n<h1>Question #1 c):</h1>\n\n<b>Find the slope and intercept of the model?</b>\n</div>"
        },
        {
            "cell_type": "markdown",
            "metadata": {},
            "source": "<h4>Slope</h4>"
        },
        {
            "cell_type": "code",
            "execution_count": 12,
            "metadata": {
                "jupyter": {
                    "outputs_hidden": false
                }
            },
            "outputs": [
                {
                    "data": {
                        "text/plain": "array([38423.30585816])"
                    },
                    "execution_count": 12,
                    "metadata": {},
                    "output_type": "execute_result"
                }
            ],
            "source": "# Write your code below and press Shift+Enter to execute \n# Slope \nlm1.coef_\n# Intercept\nlm1.intercept_"
        },
        {
            "cell_type": "markdown",
            "metadata": {},
            "source": "<h4>Intercept</h4>"
        },
        {
            "cell_type": "code",
            "execution_count": null,
            "metadata": {
                "jupyter": {
                    "outputs_hidden": false
                }
            },
            "outputs": [],
            "source": "# Slope \nlm1.coef_\n# Intercept\nlm1.intercept_\n"
        },
        {
            "cell_type": "markdown",
            "metadata": {},
            "source": "Double-click <b>here</b> for the solution.\n\n<!-- The answer is below:\n\n# Slope \nlm1.coef_\n# Intercept\nlm1.intercept_\n\n-->"
        },
        {
            "cell_type": "markdown",
            "metadata": {},
            "source": "<div class=\"alert alert-danger alertdanger\" style=\"margin-top: 20px\">\n<h1>Question #1 d): </h1>\n\n<b>What is the equation of the predicted line. You can use x and yhat or 'engine-size' or 'price'?</b>\n</div>"
        },
        {
            "cell_type": "markdown",
            "metadata": {},
            "source": "# You can type you answer here\n"
        },
        {
            "cell_type": "markdown",
            "metadata": {},
            "source": "Double-click <b>here</b> for the solution.\n\n<!-- The answer is below:\n\n# using X and Y  \nYhat=-7963.34 + 166.86*X\n\nPrice=-7963.34 + 166.86*engine-size\n\n-->"
        },
        {
            "cell_type": "code",
            "execution_count": 17,
            "metadata": {},
            "outputs": [
                {
                    "ename": "NameError",
                    "evalue": "name 'engine' is not defined",
                    "output_type": "error",
                    "traceback": [
                        "\u001b[0;31m---------------------------------------------------------------------------\u001b[0m",
                        "\u001b[0;31mNameError\u001b[0m                                 Traceback (most recent call last)",
                        "\u001b[0;32m<ipython-input-17-b5eec2012780>\u001b[0m in \u001b[0;36m<module>\u001b[0;34m\u001b[0m\n\u001b[1;32m      2\u001b[0m \u001b[0mYhat\u001b[0m\u001b[0;34m=\u001b[0m\u001b[0;34m-\u001b[0m\u001b[0;36m7963.34\u001b[0m \u001b[0;34m+\u001b[0m \u001b[0;36m166.86\u001b[0m\u001b[0;34m*\u001b[0m\u001b[0mX\u001b[0m\u001b[0;34m\u001b[0m\u001b[0;34m\u001b[0m\u001b[0m\n\u001b[1;32m      3\u001b[0m \u001b[0;34m\u001b[0m\u001b[0m\n\u001b[0;32m----> 4\u001b[0;31m \u001b[0mPrice\u001b[0m\u001b[0;34m=\u001b[0m\u001b[0;34m-\u001b[0m\u001b[0;36m7963.34\u001b[0m \u001b[0;34m+\u001b[0m \u001b[0;36m166.86\u001b[0m\u001b[0;34m*\u001b[0m\u001b[0mengine\u001b[0m\u001b[0;34m-\u001b[0m\u001b[0msize\u001b[0m\u001b[0;34m\u001b[0m\u001b[0;34m\u001b[0m\u001b[0m\n\u001b[0m",
                        "\u001b[0;31mNameError\u001b[0m: name 'engine' is not defined"
                    ]
                }
            ],
            "source": "<!-- The answer is below:\n\n# using X and Y  \nYhat=-7963.34 + 166.86*X\n\nPrice=-7963.34 + 166.86*engine-size\n# using X and Y  \nYhat=-7963.34 + 166.86*X\n\nPrice=-7963.34 + 166.86*engine-size"
        },
        {
            "cell_type": "markdown",
            "metadata": {},
            "source": "<h4>Multiple Linear Regression</h4>"
        },
        {
            "cell_type": "markdown",
            "metadata": {},
            "source": "<p>What if we want to predict car price using more than one variable?</p>\n\n<p>If we want to use more variables in our model to predict car price, we can use <b>Multiple Linear Regression</b>.\nMultiple Linear Regression is very similar to Simple Linear Regression, but this method is used to explain the relationship between one continuous response (dependent) variable and <b>two or more</b> predictor (independent) variables.\nMost of the real-world regression models involve multiple predictors. We will illustrate the structure by using four predictor variables, but these results can generalize to any integer:</p>"
        },
        {
            "cell_type": "markdown",
            "metadata": {},
            "source": "$$\nY: Response \\ Variable\\\\\nX_1 :Predictor\\ Variable \\ 1\\\\\nX_2: Predictor\\ Variable \\ 2\\\\\nX_3: Predictor\\ Variable \\ 3\\\\\nX_4: Predictor\\ Variable \\ 4\\\\\n$$"
        },
        {
            "cell_type": "markdown",
            "metadata": {},
            "source": "$$\na: intercept\\\\\nb_1 :coefficients \\ of\\ Variable \\ 1\\\\\nb_2: coefficients \\ of\\ Variable \\ 2\\\\\nb_3: coefficients \\ of\\ Variable \\ 3\\\\\nb_4: coefficients \\ of\\ Variable \\ 4\\\\\n$$"
        },
        {
            "cell_type": "markdown",
            "metadata": {},
            "source": "The equation is given by"
        },
        {
            "cell_type": "markdown",
            "metadata": {},
            "source": "$$\nYhat = a + b_1 X_1 + b_2 X_2 + b_3 X_3 + b_4 X_4\n$$"
        },
        {
            "cell_type": "markdown",
            "metadata": {},
            "source": "<p>From the previous section  we know that other good predictors of price could be:</p>\n<ul>\n    <li>Horsepower</li>\n    <li>Curb-weight</li>\n    <li>Engine-size</li>\n    <li>Highway-mpg</li>\n</ul>\nLet's develop a model using these variables as the predictor variables."
        },
        {
            "cell_type": "code",
            "execution_count": 13,
            "metadata": {},
            "outputs": [],
            "source": "Z = df[['horsepower', 'curb-weight', 'engine-size', 'highway-mpg']]"
        },
        {
            "cell_type": "markdown",
            "metadata": {},
            "source": "Fit the linear model using the four above-mentioned variables."
        },
        {
            "cell_type": "code",
            "execution_count": 14,
            "metadata": {
                "jupyter": {
                    "outputs_hidden": false
                }
            },
            "outputs": [
                {
                    "data": {
                        "text/plain": "LinearRegression(copy_X=True, fit_intercept=True, n_jobs=None,\n         normalize=False)"
                    },
                    "execution_count": 14,
                    "metadata": {},
                    "output_type": "execute_result"
                }
            ],
            "source": "lm.fit(Z, df['price'])"
        },
        {
            "cell_type": "markdown",
            "metadata": {},
            "source": "What is the value of the intercept(a)?"
        },
        {
            "cell_type": "code",
            "execution_count": 15,
            "metadata": {
                "jupyter": {
                    "outputs_hidden": false
                }
            },
            "outputs": [
                {
                    "data": {
                        "text/plain": "-15806.62462632922"
                    },
                    "execution_count": 15,
                    "metadata": {},
                    "output_type": "execute_result"
                }
            ],
            "source": "lm.intercept_"
        },
        {
            "cell_type": "markdown",
            "metadata": {},
            "source": "What are the values of the coefficients (b1, b2, b3, b4)?"
        },
        {
            "cell_type": "code",
            "execution_count": 16,
            "metadata": {
                "jupyter": {
                    "outputs_hidden": false
                }
            },
            "outputs": [
                {
                    "data": {
                        "text/plain": "array([53.49574423,  4.70770099, 81.53026382, 36.05748882])"
                    },
                    "execution_count": 16,
                    "metadata": {},
                    "output_type": "execute_result"
                }
            ],
            "source": "lm.coef_"
        },
        {
            "cell_type": "markdown",
            "metadata": {},
            "source": " What is the final estimated linear model that we get?"
        },
        {
            "cell_type": "markdown",
            "metadata": {},
            "source": "As we saw above, we should get a final linear function with the structure:\n\n$$\nYhat = a + b_1 X_1 + b_2 X_2 + b_3 X_3 + b_4 X_4\n$$\n\nWhat is the linear function we get in this example?"
        },
        {
            "cell_type": "markdown",
            "metadata": {},
            "source": "<b>Price</b> = -15678.742628061467 + 52.65851272 x <b>horsepower</b> + 4.69878948 x <b>curb-weight</b> + 81.95906216 x <b>engine-size</b> + 33.58258185 x <b>highway-mpg</b>"
        },
        {
            "cell_type": "markdown",
            "metadata": {},
            "source": "<div class=\"alert alert-danger alertdanger\" style=\"margin-top: 20px\">\n<h1> Question  #2 a): </h1>\nCreate and train a Multiple Linear Regression model \"lm2\" where the response variable is price, and the predictor variable is 'normalized-losses' and  'highway-mpg'.\n</div>"
        },
        {
            "cell_type": "code",
            "execution_count": 18,
            "metadata": {
                "jupyter": {
                    "outputs_hidden": false
                }
            },
            "outputs": [
                {
                    "data": {
                        "text/plain": "LinearRegression(copy_X=True, fit_intercept=True, n_jobs=None,\n         normalize=False)"
                    },
                    "execution_count": 18,
                    "metadata": {},
                    "output_type": "execute_result"
                }
            ],
            "source": "# Write your code below and press Shift+Enter to execute \nlm2 = LinearRegression()\nlm2.fit(df[['normalized-losses' , 'highway-mpg']],df['price'])"
        },
        {
            "cell_type": "markdown",
            "metadata": {},
            "source": "Double-click <b>here</b> for the solution.\n\n<!-- The answer is below:\n\nlm2 = LinearRegression()\nlm2.fit(df[['normalized-losses' , 'highway-mpg']],df['price'])\n\n-->"
        },
        {
            "cell_type": "markdown",
            "metadata": {},
            "source": "<div class=\"alert alert-danger alertdanger\" style=\"margin-top: 20px\">\n<h1>Question  #2 b): </h1>\n<b>Find the coefficient of the model?</b>\n</div>"
        },
        {
            "cell_type": "code",
            "execution_count": 19,
            "metadata": {},
            "outputs": [
                {
                    "data": {
                        "text/plain": "array([   1.49789586, -820.45434016])"
                    },
                    "execution_count": 19,
                    "metadata": {},
                    "output_type": "execute_result"
                }
            ],
            "source": "\nlm2.coef_"
        },
        {
            "cell_type": "markdown",
            "metadata": {},
            "source": "Double-click <b>here</b> for the solution.\n\n<!-- The answer is below:\n\nlm2.coef_\n\n-->"
        },
        {
            "cell_type": "markdown",
            "metadata": {},
            "source": "<h3>2)  Model Evaluation using Visualization</h3>"
        },
        {
            "cell_type": "markdown",
            "metadata": {},
            "source": "Now that we've developed some models, how do we evaluate our models and how do we choose the best one? One way to do this is by using visualization."
        },
        {
            "cell_type": "markdown",
            "metadata": {},
            "source": "import the visualization package: seaborn"
        },
        {
            "cell_type": "code",
            "execution_count": 20,
            "metadata": {},
            "outputs": [],
            "source": "# import the visualization package: seaborn\nimport seaborn as sns\n%matplotlib inline "
        },
        {
            "cell_type": "markdown",
            "metadata": {},
            "source": "<h3>Regression Plot</h3>"
        },
        {
            "cell_type": "markdown",
            "metadata": {},
            "source": "<p>When it comes to simple linear regression, an excellent way to visualize the fit of our model is by using <b>regression plots</b>.</p>\n\n<p>This plot will show a combination of a scattered data points (a <b>scatter plot</b>), as well as the fitted <b>linear regression</b> line going through the data. This will give us a reasonable estimate of the relationship between the two variables, the strength of the correlation, as well as the direction (positive or negative correlation).</p>"
        },
        {
            "cell_type": "markdown",
            "metadata": {},
            "source": " Let's visualize Horsepower as potential predictor variable of price:"
        },
        {
            "cell_type": "code",
            "execution_count": 21,
            "metadata": {
                "jupyter": {
                    "outputs_hidden": false
                }
            },
            "outputs": [
                {
                    "data": {
                        "text/plain": "(0, 48270.57604228302)"
                    },
                    "execution_count": 21,
                    "metadata": {},
                    "output_type": "execute_result"
                },
                {
                    "data": {
                        "image/png": "[encoded data removed]",
                        "text/plain": "<Figure size 864x720 with 1 Axes>"
                    },
                    "metadata": {
                        "needs_background": "light"
                    },
                    "output_type": "display_data"
                }
            ],
            "source": "width = 12\nheight = 10\nplt.figure(figsize=(width, height))\nsns.regplot(x=\"highway-mpg\", y=\"price\", data=df)\nplt.ylim(0,)"
        },
        {
            "cell_type": "markdown",
            "metadata": {},
            "source": "<p>We can see from this plot that price is negatively correlated to highway-mpg, since the regression slope is negative.\nOne thing to keep in mind when looking at a regression plot is to pay attention to how scattered the data points are around the regression line. This will give you a good indication of the variance of the data, and whether a linear model would be the best fit or not. If the data is too far off from the line, this linear model might not be the best model for this data. Let's compare this plot to the regression plot of \"peak-rpm\".</p>"
        },
        {
            "cell_type": "code",
            "execution_count": 22,
            "metadata": {
                "jupyter": {
                    "outputs_hidden": false
                }
            },
            "outputs": [
                {
                    "data": {
                        "text/plain": "(0, 47422.919330307624)"
                    },
                    "execution_count": 22,
                    "metadata": {},
                    "output_type": "execute_result"
                },
                {
                    "data": {
                        "image/png": "[encoded data removed]",
                        "text/plain": "<Figure size 864x720 with 1 Axes>"
                    },
                    "metadata": {
                        "needs_background": "light"
                    },
                    "output_type": "display_data"
                }
            ],
            "source": "plt.figure(figsize=(width, height))\nsns.regplot(x=\"peak-rpm\", y=\"price\", data=df)\nplt.ylim(0,)"
        },
        {
            "cell_type": "markdown",
            "metadata": {},
            "source": "<p>Comparing the regression plot of \"peak-rpm\" and \"highway-mpg\" we see that the points for \"highway-mpg\" are much closer to the generated line and on the average decrease. The points for \"peak-rpm\" have more spread around the predicted line, and it is much harder to determine if the points are decreasing or increasing as the \"highway-mpg\" increases.</p>"
        },
        {
            "cell_type": "markdown",
            "metadata": {},
            "source": "<div class=\"alert alert-danger alertdanger\" style=\"margin-top: 20px\">\n<h1>Question #3:</h1>\n<b>Given the regression plots above is \"peak-rpm\" or \"highway-mpg\" more strongly correlated with \"price\". Use the method  \".corr()\" to verify your answer.</b>\n</div>"
        },
        {
            "cell_type": "code",
            "execution_count": 24,
            "metadata": {},
            "outputs": [
                {
                    "data": {
                        "text/html": "<div>\n<style scoped>\n    .dataframe tbody tr th:only-of-type {\n        vertical-align: middle;\n    }\n\n    .dataframe tbody tr th {\n        vertical-align: top;\n    }\n\n    .dataframe thead th {\n        text-align: right;\n    }\n</style>\n<table border=\"1\" class=\"dataframe\">\n  <thead>\n    <tr style=\"text-align: right;\">\n      <th></th>\n      <th>peak-rpm</th>\n      <th>highway-mpg</th>\n      <th>price</th>\n    </tr>\n  </thead>\n  <tbody>\n    <tr>\n      <th>peak-rpm</th>\n      <td>1.000000</td>\n      <td>-0.058598</td>\n      <td>-0.101616</td>\n    </tr>\n    <tr>\n      <th>highway-mpg</th>\n      <td>-0.058598</td>\n      <td>1.000000</td>\n      <td>-0.704692</td>\n    </tr>\n    <tr>\n      <th>price</th>\n      <td>-0.101616</td>\n      <td>-0.704692</td>\n      <td>1.000000</td>\n    </tr>\n  </tbody>\n</table>\n</div>",
                        "text/plain": "             peak-rpm  highway-mpg     price\npeak-rpm     1.000000    -0.058598 -0.101616\nhighway-mpg -0.058598     1.000000 -0.704692\nprice       -0.101616    -0.704692  1.000000"
                    },
                    "execution_count": 24,
                    "metadata": {},
                    "output_type": "execute_result"
                }
            ],
            "source": "# Write your code below and press Shift+Enter to execute \n\n#The variable \"highway-mpg\" has a stronger correlation with \"price\", it is approximate -0.704692  compared to   \"peak-rpm\" which is approximate     -0.101616. You can verify it using the following command:\ndf[[\"peak-rpm\",\"highway-mpg\",\"price\"]].corr()"
        },
        {
            "cell_type": "markdown",
            "metadata": {},
            "source": "Double-click <b>here</b> for the solution.\n\n<!-- The answer is below:\n\nThe variable \"highway-mpg\" has a stronger correlation with \"price\", it is approximate -0.704692  compared to   \"peak-rpm\" which is approximate     -0.101616. You can verify it using the following command:\ndf[[\"peak-rpm\",\"highway-mpg\",\"price\"]].corr()\n\n-->"
        },
        {
            "cell_type": "markdown",
            "metadata": {},
            "source": "<h3>Residual Plot</h3>\n\n<p>A good way to visualize the variance of the data is to use a residual plot.</p>\n\n<p>What is a <b>residual</b>?</p>\n\n<p>The difference between the observed value (y) and the predicted value (Yhat) is called the residual (e). When we look at a regression plot, the residual is the distance from the data point to the fitted regression line.</p>\n\n<p>So what is a <b>residual plot</b>?</p>\n\n<p>A residual plot is a graph that shows the residuals on the vertical y-axis and the independent variable on the horizontal x-axis.</p>\n\n<p>What do we pay attention to when looking at a residual plot?</p>\n\n<p>We look at the spread of the residuals:</p>\n\n<p>- If the points in a residual plot are <b>randomly spread out around the x-axis</b>, then a <b>linear model is appropriate</b> for the data. Why is that? Randomly spread out residuals means that the variance is constant, and thus the linear model is a good fit for this data.</p>"
        },
        {
            "cell_type": "code",
            "execution_count": 25,
            "metadata": {
                "jupyter": {
                    "outputs_hidden": false
                }
            },
            "outputs": [
                {
                    "data": {
                        "image/png": "[encoded data removed]",
                        "text/plain": "<Figure size 864x720 with 1 Axes>"
                    },
                    "metadata": {
                        "needs_background": "light"
                    },
                    "output_type": "display_data"
                }
            ],
            "source": "width = 12\nheight = 10\nplt.figure(figsize=(width, height))\nsns.residplot(df['highway-mpg'], df['price'])\nplt.show()"
        },
        {
            "cell_type": "markdown",
            "metadata": {},
            "source": "<i>What is this plot telling us?</i>\n\n<p>We can see from this residual plot that the residuals are not randomly spread around the x-axis, which leads us to believe that maybe a non-linear model is more appropriate for this data.</p>"
        },
        {
            "cell_type": "markdown",
            "metadata": {},
            "source": "<h3>Multiple Linear Regression</h3>"
        },
        {
            "cell_type": "markdown",
            "metadata": {},
            "source": "<p>How do we visualize a model for Multiple Linear Regression? This gets a bit more complicated because you can't visualize it with regression or residual plot.</p>\n\n<p>One way to look at the fit of the model is by looking at the <b>distribution plot</b>: We can look at the distribution of the fitted values that result from the model and compare it to the distribution of the actual values.</p>"
        },
        {
            "cell_type": "markdown",
            "metadata": {},
            "source": "First lets make a prediction "
        },
        {
            "cell_type": "code",
            "execution_count": 26,
            "metadata": {
                "jupyter": {
                    "outputs_hidden": false
                }
            },
            "outputs": [],
            "source": "Y_hat = lm.predict(Z)"
        },
        {
            "cell_type": "code",
            "execution_count": 27,
            "metadata": {
                "jupyter": {
                    "outputs_hidden": false
                }
            },
            "outputs": [
                {
                    "data": {
                        "image/png": "[encoded data removed]",
                        "text/plain": "<Figure size 864x720 with 1 Axes>"
                    },
                    "metadata": {
                        "needs_background": "light"
                    },
                    "output_type": "display_data"
                }
            ],
            "source": "plt.figure(figsize=(width, height))\n\n\nax1 = sns.distplot(df['price'], hist=False, color=\"r\", label=\"Actual Value\")\nsns.distplot(Yhat, hist=False, color=\"b\", label=\"Fitted Values\" , ax=ax1)\n\n\nplt.title('Actual vs Fitted Values for Price')\nplt.xlabel('Price (in dollars)')\nplt.ylabel('Proportion of Cars')\n\nplt.show()\nplt.close()"
        },
        {
            "cell_type": "markdown",
            "metadata": {},
            "source": "<p>We can see that the fitted values are reasonably close to the actual values, since the two distributions overlap a bit. However, there is definitely some room for improvement.</p>"
        },
        {
            "cell_type": "markdown",
            "metadata": {},
            "source": "<h2>Part 3: Polynomial Regression and Pipelines</h2>"
        },
        {
            "cell_type": "markdown",
            "metadata": {},
            "source": "<p><b>Polynomial regression</b> is a particular case of the general linear regression model or multiple linear regression models.</p> \n<p>We get non-linear relationships by squaring or setting higher-order terms of the predictor variables.</p>\n\n<p>There are different orders of polynomial regression:</p>"
        },
        {
            "cell_type": "markdown",
            "metadata": {},
            "source": "<center><b>Quadratic - 2nd order</b></center>\n$$\nYhat = a + b_1 X^2 +b_2 X^2 \n$$\n\n\n<center><b>Cubic - 3rd order</b></center>\n$$\nYhat = a + b_1 X^2 +b_2 X^2 +b_3 X^3\\\\\n$$\n\n\n<center><b>Higher order</b>:</center>\n$$\nY = a + b_1 X^2 +b_2 X^2 +b_3 X^3 ....\\\\\n$$"
        },
        {
            "cell_type": "markdown",
            "metadata": {},
            "source": "<p>We saw earlier that a linear model did not provide the best fit while using highway-mpg as the predictor variable. Let's see if we can try fitting a polynomial model to the data instead.</p>"
        },
        {
            "cell_type": "markdown",
            "metadata": {},
            "source": "<p>We will use the following function to plot the data:</p>"
        },
        {
            "cell_type": "code",
            "execution_count": 28,
            "metadata": {
                "jupyter": {
                    "outputs_hidden": false
                }
            },
            "outputs": [],
            "source": "def PlotPolly(model, independent_variable, dependent_variabble, Name):\n    x_new = np.linspace(15, 55, 100)\n    y_new = model(x_new)\n\n    plt.plot(independent_variable, dependent_variabble, '.', x_new, y_new, '-')\n    plt.title('Polynomial Fit with Matplotlib for Price ~ Length')\n    ax = plt.gca()\n    ax.set_facecolor((0.898, 0.898, 0.898))\n    fig = plt.gcf()\n    plt.xlabel(Name)\n    plt.ylabel('Price of Cars')\n\n    plt.show()\n    plt.close()"
        },
        {
            "cell_type": "markdown",
            "metadata": {},
            "source": "lets get the variables"
        },
        {
            "cell_type": "code",
            "execution_count": 29,
            "metadata": {
                "jupyter": {
                    "outputs_hidden": false
                }
            },
            "outputs": [],
            "source": "x = df['highway-mpg']\ny = df['price']"
        },
        {
            "cell_type": "markdown",
            "metadata": {},
            "source": "Let's fit the polynomial using the function <b>polyfit</b>, then use the function <b>poly1d</b> to display the polynomial function."
        },
        {
            "cell_type": "code",
            "execution_count": 30,
            "metadata": {
                "jupyter": {
                    "outputs_hidden": false
                }
            },
            "outputs": [
                {
                    "name": "stdout",
                    "output_type": "stream",
                    "text": "        3         2\n-1.557 x + 204.8 x - 8965 x + 1.379e+05\n"
                }
            ],
            "source": "# Here we use a polynomial of the 3rd order (cubic) \nf = np.polyfit(x, y, 3)\np = np.poly1d(f)\nprint(p)"
        },
        {
            "cell_type": "markdown",
            "metadata": {},
            "source": " Let's plot the function "
        },
        {
            "cell_type": "code",
            "execution_count": 31,
            "metadata": {
                "jupyter": {
                    "outputs_hidden": false
                }
            },
            "outputs": [
                {
                    "data": {
                        "image/png": "[encoded data removed]",
                        "text/plain": "<Figure size 432x288 with 1 Axes>"
                    },
                    "metadata": {
                        "needs_background": "light"
                    },
                    "output_type": "display_data"
                }
            ],
            "source": "PlotPolly(p, x, y, 'highway-mpg')"
        },
        {
            "cell_type": "code",
            "execution_count": 32,
            "metadata": {
                "jupyter": {
                    "outputs_hidden": false
                }
            },
            "outputs": [
                {
                    "data": {
                        "text/plain": "array([-1.55663829e+00,  2.04754306e+02, -8.96543312e+03,  1.37923594e+05])"
                    },
                    "execution_count": 32,
                    "metadata": {},
                    "output_type": "execute_result"
                }
            ],
            "source": "np.polyfit(x, y, 3)"
        },
        {
            "cell_type": "markdown",
            "metadata": {},
            "source": "<p>We can already see from plotting that this polynomial model performs better than the linear model. This is because the generated polynomial function  \"hits\" more of the data points.</p>"
        },
        {
            "cell_type": "markdown",
            "metadata": {},
            "source": "<div class=\"alert alert-danger alertdanger\" style=\"margin-top: 20px\">\n<h1>Question  #4:</h1>\n<b>Create 11 order polynomial model with the variables x and y from above?</b>\n</div>"
        },
        {
            "cell_type": "code",
            "execution_count": 36,
            "metadata": {},
            "outputs": [
                {
                    "name": "stdout",
                    "output_type": "stream",
                    "text": "        3         2\n-1.557 x + 204.8 x - 8965 x + 1.379e+05\n"
                },
                {
                    "data": {
                        "image/png": "[encoded data removed]",
                        "text/plain": "<Figure size 432x288 with 1 Axes>"
                    },
                    "metadata": {
                        "needs_background": "light"
                    },
                    "output_type": "display_data"
                }
            ],
            "source": "# Write your code below and press Shift+Enter to execute \n# calculate polynomial\n# Here we use a polynomial of the 11rd order (cubic) \nf1 = np.polyfit(x, y, 11)\np1 = np.poly1d(f1)\nprint(p)\nPlotPolly(p1,x,y, 'Highway MPG')"
        },
        {
            "cell_type": "markdown",
            "metadata": {},
            "source": "Double-click <b>here</b> for the solution.\n\n<!-- The answer is below:\n\n# calculate polynomial\n# Here we use a polynomial of the 11rd order (cubic) \nf1 = np.polyfit(x, y, 11)\np1 = np.poly1d(f1)\nprint(p)\nPlotPolly(p1,x,y, 'Highway MPG')\n\n-->"
        },
        {
            "cell_type": "markdown",
            "metadata": {},
            "source": "<p>The analytical expression for Multivariate Polynomial function gets complicated. For example, the expression for a second-order (degree=2)polynomial with two variables is given by:</p>"
        },
        {
            "cell_type": "markdown",
            "metadata": {},
            "source": "$$\nYhat = a + b_1 X_1 +b_2 X_2 +b_3 X_1 X_2+b_4 X_1^2+b_5 X_2^2\n$$"
        },
        {
            "cell_type": "markdown",
            "metadata": {},
            "source": "We can perform a polynomial transform on multiple features. First, we import the module:"
        },
        {
            "cell_type": "code",
            "execution_count": 37,
            "metadata": {},
            "outputs": [],
            "source": "from sklearn.preprocessing import PolynomialFeatures"
        },
        {
            "cell_type": "markdown",
            "metadata": {},
            "source": "We create a <b>PolynomialFeatures</b> object of degree 2: "
        },
        {
            "cell_type": "code",
            "execution_count": 38,
            "metadata": {
                "jupyter": {
                    "outputs_hidden": false
                }
            },
            "outputs": [
                {
                    "data": {
                        "text/plain": "PolynomialFeatures(degree=2, include_bias=True, interaction_only=False)"
                    },
                    "execution_count": 38,
                    "metadata": {},
                    "output_type": "execute_result"
                }
            ],
            "source": "pr=PolynomialFeatures(degree=2)\npr"
        },
        {
            "cell_type": "code",
            "execution_count": 39,
            "metadata": {},
            "outputs": [],
            "source": "Z_pr=pr.fit_transform(Z)"
        },
        {
            "cell_type": "markdown",
            "metadata": {},
            "source": "The original data is of 201 samples and 4 features "
        },
        {
            "cell_type": "code",
            "execution_count": 40,
            "metadata": {
                "jupyter": {
                    "outputs_hidden": false
                }
            },
            "outputs": [
                {
                    "data": {
                        "text/plain": "(201, 4)"
                    },
                    "execution_count": 40,
                    "metadata": {},
                    "output_type": "execute_result"
                }
            ],
            "source": "Z.shape"
        },
        {
            "cell_type": "markdown",
            "metadata": {},
            "source": "after the transformation, there 201 samples and 15 features"
        },
        {
            "cell_type": "code",
            "execution_count": 41,
            "metadata": {
                "jupyter": {
                    "outputs_hidden": false
                }
            },
            "outputs": [
                {
                    "data": {
                        "text/plain": "(201, 15)"
                    },
                    "execution_count": 41,
                    "metadata": {},
                    "output_type": "execute_result"
                }
            ],
            "source": "Z_pr.shape"
        },
        {
            "cell_type": "markdown",
            "metadata": {},
            "source": "<h2>Pipeline</h2>"
        },
        {
            "cell_type": "markdown",
            "metadata": {},
            "source": "<p>Data Pipelines simplify the steps of processing the data. We use the module <b>Pipeline</b> to create a pipeline. We also use <b>StandardScaler</b> as a step in our pipeline.</p>"
        },
        {
            "cell_type": "code",
            "execution_count": 42,
            "metadata": {},
            "outputs": [],
            "source": "from sklearn.pipeline import Pipeline\nfrom sklearn.preprocessing import StandardScaler"
        },
        {
            "cell_type": "markdown",
            "metadata": {},
            "source": "We create the pipeline, by creating a list of tuples including the name of the model or estimator and its corresponding constructor."
        },
        {
            "cell_type": "code",
            "execution_count": 43,
            "metadata": {
                "jupyter": {
                    "outputs_hidden": false
                }
            },
            "outputs": [],
            "source": "Input=[('scale',StandardScaler()), ('polynomial', PolynomialFeatures(include_bias=False)), ('model',LinearRegression())]"
        },
        {
            "cell_type": "markdown",
            "metadata": {},
            "source": "we input the list as an argument to the pipeline constructor "
        },
        {
            "cell_type": "code",
            "execution_count": 44,
            "metadata": {
                "jupyter": {
                    "outputs_hidden": false
                }
            },
            "outputs": [
                {
                    "data": {
                        "text/plain": "Pipeline(memory=None,\n     steps=[('scale', StandardScaler(copy=True, with_mean=True, with_std=True)), ('polynomial', PolynomialFeatures(degree=2, include_bias=False, interaction_only=False)), ('model', LinearRegression(copy_X=True, fit_intercept=True, n_jobs=None,\n         normalize=False))])"
                    },
                    "execution_count": 44,
                    "metadata": {},
                    "output_type": "execute_result"
                }
            ],
            "source": "pipe=Pipeline(Input)\npipe"
        },
        {
            "cell_type": "markdown",
            "metadata": {},
            "source": "We can normalize the data,  perform a transform and fit the model simultaneously. "
        },
        {
            "cell_type": "code",
            "execution_count": 45,
            "metadata": {
                "jupyter": {
                    "outputs_hidden": false
                }
            },
            "outputs": [
                {
                    "name": "stderr",
                    "output_type": "stream",
                    "text": "/home/jupyterlab/conda/envs/python/lib/python3.6/site-packages/sklearn/preprocessing/data.py:625: DataConversionWarning: Data with input dtype int64, float64 were all converted to float64 by StandardScaler.\n  return self.partial_fit(X, y)\n/home/jupyterlab/conda/envs/python/lib/python3.6/site-packages/sklearn/base.py:465: DataConversionWarning: Data with input dtype int64, float64 were all converted to float64 by StandardScaler.\n  return self.fit(X, y, **fit_params).transform(X)\n"
                },
                {
                    "data": {
                        "text/plain": "Pipeline(memory=None,\n     steps=[('scale', StandardScaler(copy=True, with_mean=True, with_std=True)), ('polynomial', PolynomialFeatures(degree=2, include_bias=False, interaction_only=False)), ('model', LinearRegression(copy_X=True, fit_intercept=True, n_jobs=None,\n         normalize=False))])"
                    },
                    "execution_count": 45,
                    "metadata": {},
                    "output_type": "execute_result"
                }
            ],
            "source": "pipe.fit(Z,y)"
        },
        {
            "cell_type": "markdown",
            "metadata": {},
            "source": " Similarly,  we can normalize the data, perform a transform and produce a prediction  simultaneously"
        },
        {
            "cell_type": "code",
            "execution_count": 46,
            "metadata": {
                "jupyter": {
                    "outputs_hidden": false
                }
            },
            "outputs": [
                {
                    "name": "stderr",
                    "output_type": "stream",
                    "text": "/home/jupyterlab/conda/envs/python/lib/python3.6/site-packages/sklearn/pipeline.py:331: DataConversionWarning: Data with input dtype int64, float64 were all converted to float64 by StandardScaler.\n  Xt = transform.transform(Xt)\n"
                },
                {
                    "data": {
                        "text/plain": "array([13102.74784201, 13102.74784201, 18225.54572197, 10390.29636555])"
                    },
                    "execution_count": 46,
                    "metadata": {},
                    "output_type": "execute_result"
                }
            ],
            "source": "ypipe=pipe.predict(Z)\nypipe[0:4]"
        },
        {
            "cell_type": "markdown",
            "metadata": {},
            "source": "<div class=\"alert alert-danger alertdanger\" style=\"margin-top: 20px\">\n<h1>Question #5:</h1>\n<b>Create a pipeline that Standardizes the data, then perform prediction using a linear regression model using the features Z and targets y</b>\n</div>"
        },
        {
            "cell_type": "code",
            "execution_count": 47,
            "metadata": {},
            "outputs": [
                {
                    "name": "stderr",
                    "output_type": "stream",
                    "text": "/home/jupyterlab/conda/envs/python/lib/python3.6/site-packages/sklearn/preprocessing/data.py:625: DataConversionWarning: Data with input dtype int64, float64 were all converted to float64 by StandardScaler.\n  return self.partial_fit(X, y)\n/home/jupyterlab/conda/envs/python/lib/python3.6/site-packages/sklearn/base.py:465: DataConversionWarning: Data with input dtype int64, float64 were all converted to float64 by StandardScaler.\n  return self.fit(X, y, **fit_params).transform(X)\n/home/jupyterlab/conda/envs/python/lib/python3.6/site-packages/sklearn/pipeline.py:331: DataConversionWarning: Data with input dtype int64, float64 were all converted to float64 by StandardScaler.\n  Xt = transform.transform(Xt)\n"
                },
                {
                    "data": {
                        "text/plain": "array([13699.11161184, 13699.11161184, 19051.65470233, 10620.36193015,\n       15521.31420211, 13869.66673213, 15456.16196732, 15974.00907672,\n       17612.35917161, 10722.32509097])"
                    },
                    "execution_count": 47,
                    "metadata": {},
                    "output_type": "execute_result"
                }
            ],
            "source": "# Write your code below and press Shift+Enter to execute \n\nInput=[('scale',StandardScaler()),('model',LinearRegression())]\n\npipe=Pipeline(Input)\n\npipe.fit(Z,y)\n\nypipe=pipe.predict(Z)\nypipe[0:10]"
        },
        {
            "cell_type": "markdown",
            "metadata": {},
            "source": "</div>\nDouble-click <b>here</b> for the solution.\n\n<!-- The answer is below:\n\nInput=[('scale',StandardScaler()),('model',LinearRegression())]\n\npipe=Pipeline(Input)\n\npipe.fit(Z,y)\n\nypipe=pipe.predict(Z)\nypipe[0:10]\n\n-->"
        },
        {
            "cell_type": "markdown",
            "metadata": {},
            "source": "<h2>Part 4: Measures for In-Sample Evaluation</h2>"
        },
        {
            "cell_type": "markdown",
            "metadata": {},
            "source": "<p>When evaluating our models, not only do we want to visualize the results, but we also want a quantitative measure to determine how accurate the model is.</p>\n\n<p>Two very important measures that are often used in Statistics to determine the accuracy of a model are:</p>\n<ul>\n    <li><b>R^2 / R-squared</b></li>\n    <li><b>Mean Squared Error (MSE)</b></li>\n</ul>\n    \n<b>R-squared</b>\n\n<p>R squared, also known as the coefficient of determination, is a measure to indicate how close the data is to the fitted regression line.</p>\n    \n<p>The value of the R-squared is the percentage of variation of the response variable (y) that is explained by a linear model.</p>\n\n\n\n<b>Mean Squared Error (MSE)</b>\n\n<p>The Mean Squared Error measures the average of the squares of errors, that is, the difference between actual value (y) and the estimated value (\u0177).</p>"
        },
        {
            "cell_type": "markdown",
            "metadata": {},
            "source": "<h3>Model 1: Simple Linear Regression</h3>"
        },
        {
            "cell_type": "markdown",
            "metadata": {},
            "source": "Let's calculate the R^2"
        },
        {
            "cell_type": "code",
            "execution_count": 48,
            "metadata": {
                "jupyter": {
                    "outputs_hidden": false
                },
                "scrolled": true
            },
            "outputs": [
                {
                    "name": "stdout",
                    "output_type": "stream",
                    "text": "The R-square is:  0.4965911884339176\n"
                }
            ],
            "source": "#highway_mpg_fit\nlm.fit(X, Y)\n# Find the R^2\nprint('The R-square is: ', lm.score(X, Y))"
        },
        {
            "cell_type": "markdown",
            "metadata": {},
            "source": "We can say that ~ 49.659% of the variation of the price is explained by this simple linear model \"horsepower_fit\"."
        },
        {
            "cell_type": "markdown",
            "metadata": {},
            "source": "Let's calculate the MSE"
        },
        {
            "cell_type": "markdown",
            "metadata": {},
            "source": "We can predict the output i.e., \"yhat\" using the predict method, where X is the input variable:"
        },
        {
            "cell_type": "code",
            "execution_count": 49,
            "metadata": {
                "jupyter": {
                    "outputs_hidden": false
                }
            },
            "outputs": [
                {
                    "name": "stdout",
                    "output_type": "stream",
                    "text": "The output of the first four predicted value is:  [16236.50464347 16236.50464347 17058.23802179 13771.3045085 ]\n"
                }
            ],
            "source": "Yhat=lm.predict(X)\nprint('The output of the first four predicted value is: ', Yhat[0:4])"
        },
        {
            "cell_type": "markdown",
            "metadata": {},
            "source": "lets import the function <b>mean_squared_error</b> from the module <b>metrics</b>"
        },
        {
            "cell_type": "code",
            "execution_count": 50,
            "metadata": {},
            "outputs": [],
            "source": "from sklearn.metrics import mean_squared_error"
        },
        {
            "cell_type": "markdown",
            "metadata": {},
            "source": "we compare the predicted results with the actual results "
        },
        {
            "cell_type": "code",
            "execution_count": 52,
            "metadata": {
                "jupyter": {
                    "outputs_hidden": false
                }
            },
            "outputs": [
                {
                    "name": "stdout",
                    "output_type": "stream",
                    "text": "The mean square error of price and predicted value is:  31635042.944639888\n"
                }
            ],
            "source": "mse = mean_squared_error(df['price'], Yhat)\nprint('The mean square error of price and predicted value is: ', mse)"
        },
        {
            "cell_type": "markdown",
            "metadata": {},
            "source": "<h3>Model 2: Multiple Linear Regression</h3>"
        },
        {
            "cell_type": "markdown",
            "metadata": {},
            "source": "Let's calculate the R^2"
        },
        {
            "cell_type": "code",
            "execution_count": 53,
            "metadata": {
                "jupyter": {
                    "outputs_hidden": false
                }
            },
            "outputs": [
                {
                    "name": "stdout",
                    "output_type": "stream",
                    "text": "The R-square is:  0.8093562806577457\n"
                }
            ],
            "source": "# fit the model \nlm.fit(Z, df['price'])\n# Find the R^2\nprint('The R-square is: ', lm.score(Z, df['price']))"
        },
        {
            "cell_type": "markdown",
            "metadata": {},
            "source": "We can say that ~ 80.896 % of the variation of price is explained by this multiple linear regression \"multi_fit\"."
        },
        {
            "cell_type": "markdown",
            "metadata": {},
            "source": "Let's calculate the MSE"
        },
        {
            "cell_type": "markdown",
            "metadata": {},
            "source": " we produce a prediction "
        },
        {
            "cell_type": "code",
            "execution_count": 54,
            "metadata": {
                "jupyter": {
                    "outputs_hidden": false
                }
            },
            "outputs": [],
            "source": "Y_predict_multifit = lm.predict(Z)"
        },
        {
            "cell_type": "markdown",
            "metadata": {},
            "source": " we compare the predicted results with the actual results "
        },
        {
            "cell_type": "code",
            "execution_count": 55,
            "metadata": {
                "jupyter": {
                    "outputs_hidden": false
                }
            },
            "outputs": [
                {
                    "name": "stdout",
                    "output_type": "stream",
                    "text": "The mean square error of price and predicted value using multifit is:  11980366.87072649\n"
                }
            ],
            "source": "print('The mean square error of price and predicted value using multifit is: ', \\\n      mean_squared_error(df['price'], Y_predict_multifit))"
        },
        {
            "cell_type": "markdown",
            "metadata": {},
            "source": "<h3>Model 3: Polynomial Fit</h3>"
        },
        {
            "cell_type": "markdown",
            "metadata": {},
            "source": "Let's calculate the R^2"
        },
        {
            "cell_type": "markdown",
            "metadata": {},
            "source": "let\u2019s import the function <b>r2_score</b> from the module <b>metrics</b> as we are using a different function"
        },
        {
            "cell_type": "code",
            "execution_count": 56,
            "metadata": {},
            "outputs": [],
            "source": "from sklearn.metrics import r2_score"
        },
        {
            "cell_type": "markdown",
            "metadata": {},
            "source": "We apply the function to get the value of r^2"
        },
        {
            "cell_type": "code",
            "execution_count": 57,
            "metadata": {
                "jupyter": {
                    "outputs_hidden": false
                }
            },
            "outputs": [
                {
                    "name": "stdout",
                    "output_type": "stream",
                    "text": "The R-square value is:  0.674194666390652\n"
                }
            ],
            "source": "r_squared = r2_score(y, p(x))\nprint('The R-square value is: ', r_squared)"
        },
        {
            "cell_type": "markdown",
            "metadata": {},
            "source": "We can say that ~ 67.419 % of the variation of price is explained by this polynomial fit"
        },
        {
            "cell_type": "markdown",
            "metadata": {},
            "source": "<h3>MSE</h3>"
        },
        {
            "cell_type": "markdown",
            "metadata": {},
            "source": "We can also calculate the MSE:  "
        },
        {
            "cell_type": "code",
            "execution_count": 58,
            "metadata": {
                "jupyter": {
                    "outputs_hidden": false
                }
            },
            "outputs": [
                {
                    "data": {
                        "text/plain": "20474146.426361218"
                    },
                    "execution_count": 58,
                    "metadata": {},
                    "output_type": "execute_result"
                }
            ],
            "source": "mean_squared_error(df['price'], p(x))"
        },
        {
            "cell_type": "markdown",
            "metadata": {},
            "source": "<h2>Part 5: Prediction and Decision Making</h2>\n<h3>Prediction</h3>\n\n<p>In the previous section, we trained the model using the method <b>fit</b>. Now we will use the method <b>predict</b> to produce a prediction. Lets import <b>pyplot</b> for plotting; we will also be using some functions from numpy.</p>"
        },
        {
            "cell_type": "code",
            "execution_count": 59,
            "metadata": {},
            "outputs": [],
            "source": "import matplotlib.pyplot as plt\nimport numpy as np\n\n%matplotlib inline "
        },
        {
            "cell_type": "markdown",
            "metadata": {},
            "source": "Create a new input "
        },
        {
            "cell_type": "code",
            "execution_count": 60,
            "metadata": {
                "jupyter": {
                    "outputs_hidden": false
                }
            },
            "outputs": [],
            "source": "new_input=np.arange(1, 100, 1).reshape(-1, 1)"
        },
        {
            "cell_type": "markdown",
            "metadata": {},
            "source": " Fit the model "
        },
        {
            "cell_type": "code",
            "execution_count": 61,
            "metadata": {
                "jupyter": {
                    "outputs_hidden": false
                }
            },
            "outputs": [
                {
                    "data": {
                        "text/plain": "LinearRegression(copy_X=True, fit_intercept=True, n_jobs=None,\n         normalize=False)"
                    },
                    "execution_count": 61,
                    "metadata": {},
                    "output_type": "execute_result"
                }
            ],
            "source": "lm.fit(X, Y)\nlm"
        },
        {
            "cell_type": "markdown",
            "metadata": {},
            "source": "Produce a prediction"
        },
        {
            "cell_type": "code",
            "execution_count": 62,
            "metadata": {
                "jupyter": {
                    "outputs_hidden": false
                }
            },
            "outputs": [
                {
                    "data": {
                        "text/plain": "array([37601.57247984, 36779.83910151, 35958.10572319, 35136.37234487,\n       34314.63896655])"
                    },
                    "execution_count": 62,
                    "metadata": {},
                    "output_type": "execute_result"
                }
            ],
            "source": "yhat=lm.predict(new_input)\nyhat[0:5]"
        },
        {
            "cell_type": "markdown",
            "metadata": {},
            "source": "we can plot the data "
        },
        {
            "cell_type": "code",
            "execution_count": 63,
            "metadata": {
                "jupyter": {
                    "outputs_hidden": false
                }
            },
            "outputs": [
                {
                    "data": {
                        "image/png": "[encoded data removed]",
                        "text/plain": "<Figure size 432x288 with 1 Axes>"
                    },
                    "metadata": {
                        "needs_background": "light"
                    },
                    "output_type": "display_data"
                }
            ],
            "source": "plt.plot(new_input, yhat)\nplt.show()"
        },
        {
            "cell_type": "markdown",
            "metadata": {},
            "source": "<h3>Decision Making: Determining a Good Model Fit</h3>"
        },
        {
            "cell_type": "markdown",
            "metadata": {},
            "source": "<p>Now that we have visualized the different models, and generated the R-squared and MSE values for the fits, how do we determine a good model fit?\n<ul>\n    <li><i>What is a good R-squared value?</i></li>\n</ul>\n</p>\n\n<p>When comparing models, <b>the model with the higher R-squared value is a better fit</b> for the data.\n<ul>\n    <li><i>What is a good MSE?</i></li>\n</ul>\n</p>\n\n<p>When comparing models, <b>the model with the smallest MSE value is a better fit</b> for the data.</p>\n\n\n<h4>Let's take a look at the values for the different models.</h4>\n<p>Simple Linear Regression: Using Highway-mpg as a Predictor Variable of Price.\n<ul>\n    <li>R-squared: 0.49659118843391759</li>\n    <li>MSE: 3.16 x10^7</li>\n</ul>\n</p>\n    \n<p>Multiple Linear Regression: Using Horsepower, Curb-weight, Engine-size, and Highway-mpg as Predictor Variables of Price.\n<ul>\n    <li>R-squared: 0.80896354913783497</li>\n    <li>MSE: 1.2 x10^7</li>\n</ul>\n</p>\n    \n<p>Polynomial Fit: Using Highway-mpg as a Predictor Variable of Price.\n<ul>\n    <li>R-squared: 0.6741946663906514</li>\n    <li>MSE: 2.05 x 10^7</li>\n</ul>\n</p>"
        },
        {
            "cell_type": "markdown",
            "metadata": {},
            "source": "<h3>Simple Linear Regression model (SLR) vs Multiple Linear Regression model (MLR)</h3>"
        },
        {
            "cell_type": "markdown",
            "metadata": {},
            "source": "<p>Usually, the more variables you have, the better your model is at predicting, but this is not always true. Sometimes you may not have enough data, you may run into numerical problems, or many of the variables may not be useful and or even act as noise. As a result, you should always check the MSE and R^2.</p>\n\n<p>So to be able to compare the results of the MLR vs SLR models, we look at a combination of both the R-squared and MSE to make the best conclusion about the fit of the model.\n<ul>\n    <li><b>MSE</b>The MSE of SLR is  3.16x10^7  while MLR has an MSE of 1.2 x10^7.  The MSE of MLR is much smaller.</li>\n    <li><b>R-squared</b>: In this case, we can also see that there is a big difference between the R-squared of the SLR and the R-squared of the MLR. The R-squared for the SLR (~0.497) is very small compared to the R-squared for the MLR (~0.809).</li>\n</ul>\n</p>\n\nThis R-squared in combination with the MSE show that MLR seems like the better model fit in this case, compared to SLR."
        },
        {
            "cell_type": "markdown",
            "metadata": {},
            "source": "<h3>Simple Linear Model (SLR) vs Polynomial Fit</h3>"
        },
        {
            "cell_type": "markdown",
            "metadata": {},
            "source": "<ul>\n    <li><b>MSE</b>: We can see that Polynomial Fit brought down the MSE, since this MSE is smaller than the one from the SLR.</li> \n    <li><b>R-squared</b>: The R-squared for the Polyfit is larger than the R-squared for the SLR, so the Polynomial Fit also brought up the R-squared quite a bit.</li>\n</ul>\n<p>Since the Polynomial Fit resulted in a lower MSE and a higher R-squared, we can conclude that this was a better fit model than the simple linear regression for predicting Price with Highway-mpg as a predictor variable.</p>"
        },
        {
            "cell_type": "markdown",
            "metadata": {},
            "source": "<h3>Multiple Linear Regression (MLR) vs Polynomial Fit</h3>"
        },
        {
            "cell_type": "markdown",
            "metadata": {},
            "source": "<ul>\n    <li><b>MSE</b>: The MSE for the MLR is smaller than the MSE for the Polynomial Fit.</li>\n    <li><b>R-squared</b>: The R-squared for the MLR is also much larger than for the Polynomial Fit.</li>\n</ul>"
        },
        {
            "cell_type": "markdown",
            "metadata": {},
            "source": "<h2>Conclusion:</h2>"
        },
        {
            "cell_type": "markdown",
            "metadata": {},
            "source": "<p>Comparing these three models, we conclude that <b>the MLR model is the best model</b> to be able to predict price from our dataset. This result makes sense, since we have 27 variables in total, and we know that more than one of those variables are potential predictors of the final car price.</p>"
        },
        {
            "cell_type": "markdown",
            "metadata": {},
            "source": "<h1>Thank you for completing this notebook</h1>"
        },
        {
            "cell_type": "markdown",
            "metadata": {},
            "source": "<div class=\"alert alert-block alert-info\" style=\"margin-top: 20px\">\n\n    <p><a href=\"https://cocl.us/corsera_da0101en_notebook_bottom\"><img src=\"https://s3-api.us-geo.objectstorage.softlayer.net/cf-courses-data/CognitiveClass/DA0101EN/Images/BottomAd.png\" width=\"750\" align=\"center\"></a></p>\n</div>\n"
        },
        {
            "cell_type": "markdown",
            "metadata": {},
            "source": "<h3>About the Authors:</h3>\n\nThis notebook was written by <a href=\"https://www.linkedin.com/in/mahdi-noorian-58219234/\" target=\"_blank\">Mahdi Noorian PhD</a>, <a href=\"https://www.linkedin.com/in/joseph-s-50398b136/\" target=\"_blank\">Joseph Santarcangelo</a>, Bahare Talayian, Eric Xiao, Steven Dong, Parizad, Hima Vsudevan and <a href=\"https://www.linkedin.com/in/fiorellawever/\" target=\"_blank\">Fiorella Wenver</a> and <a href=\" https://www.linkedin.com/in/yi-leng-yao-84451275/ \" target=\"_blank\" >Yi Yao</a>.\n\n<p><a href=\"https://www.linkedin.com/in/joseph-s-50398b136/\" target=\"_blank\">Joseph Santarcangelo</a> is a Data Scientist at IBM, and holds a PhD in Electrical Engineering. His research focused on using Machine Learning, Signal Processing, and Computer Vision to determine how videos impact human cognition. Joseph has been working for IBM since he completed his PhD.</p>"
        },
        {
            "cell_type": "markdown",
            "metadata": {},
            "source": "<hr>\n<p>Copyright &copy; 2018 IBM Developer Skills Network. This notebook and its source code are released under the terms of the <a href=\"https://cognitiveclass.ai/mit-license/\">MIT License</a>.</p>"
        }
    ],
    "metadata": {
        "kernelspec": {
            "display_name": "Python 3.6",
            "language": "python",
            "name": "python3"
        },
        "language_info": {
            "codemirror_mode": {
                "name": "ipython",
                "version": 3
            },
            "file_extension": ".py",
            "mimetype": "text/x-python",
            "name": "python",
            "nbconvert_exporter": "python",
            "pygments_lexer": "ipython3",
            "version": "3.6.9"
        }
    },
    "nbformat": 4,
    "nbformat_minor": 4
}